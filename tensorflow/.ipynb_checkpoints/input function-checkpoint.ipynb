{
 "cells": [
  {
   "cell_type": "markdown",
   "metadata": {},
   "source": [
    "# Building Input Functions with tf.estimator 读书笔记\n",
    "\n",
    "[tf官网原文](https://www.tensorflow.org/get_started/input_fn)\n",
    "\n",
    "input_fn 的目的是把feature传入Extimator中的train, evaluate和predict中。可以在input_fn中做feature engineering 或者 pre-processing"
   ]
  },
  {
   "cell_type": "code",
   "execution_count": 1,
   "metadata": {
    "collapsed": true
   },
   "outputs": [],
   "source": [
    "import tensorflow as tf"
   ]
  },
  {
   "cell_type": "markdown",
   "metadata": {},
   "source": [
    "\n",
    "## input_fn的基本形式\n",
    "``` python\n",
    "def my_input_fn():\n",
    "\n",
    "    # Preprocess your data here...\n",
    "\n",
    "    # ...then return 1) a mapping of feature columns to Tensors with\n",
    "    # the corresponding feature data, and 2) a Tensor containing labels\n",
    "    return feature_cols, labels\n",
    "```"
   ]
  },
  {
   "cell_type": "markdown",
   "metadata": {},
   "source": [
    "回传值一定是feature_cols和labels。\n",
    "\n",
    "**feature_cols**: A dict containing key/value pairs that map feature column names to Tensors (or SparseTensors) containing the corresponding feature data.\n",
    "\n",
    "**labels**:A Tensor containing your label (target) values: the values your model aims to predict.\n",
    "\n",
    "feature colums的官方解释：\n",
    "\n",
    "A **FeatureColumn** represents a single feature in your data. A **FeatureColumn** may represent a quantity like 'height', or it may represent a category like 'eye_color' where the value is drawn from a set of discrete possibilities like {'blue', 'brown', 'green'}.\n",
    "\n",
    "In the case of both continuous features like 'height' and categorical features like 'eye_color', a single value in the data might get transformed into a sequence of numbers before it is input into the model. The FeatureColumn abstraction lets you manipulate the feature as a single semantic unit in spite of this fact. You can specify transformations and select features to include without dealing with specific indices in the tensors you feed into the model.\n",
    "\n",
    "自己的理解，由于有的时候要对某一个特定的feature做preprocessing，在pandas里面可以直接做到拿column的动作，应该tf也是支持这一属性的，于是称为feature column。\n",
    "\n",
    "## numpy pandas资料处理\n",
    "\n",
    "如果资料室pandas或者numpy，可以利用一下方法产生input_fn:\n",
    "```python\n",
    "import numpy as np\n",
    "\n",
    "my_input_fn = tf.estimator.inputs.numpy_input_fn(\n",
    "    x={\"x\": np.array(x_data)},\n",
    "    y=np.array(y_data),\n",
    "    ...)\n",
    "\n",
    "import pandas as pd\n",
    "\n",
    "my_input_fn = tf.extimator.inputs.pandas_input_fn(\n",
    "    x=pd.DataFrame({\"x\": x_data}),\n",
    "    y=pd.Series(y_data),\n",
    "    ...)\n",
    "```\n",
    "\n",
    "## 将input_fn传入model\n",
    "\n",
    "直接将function object传入input_fn中。\n",
    "```python\n",
    "classifier.train(input_fn=my_input_fn, steps=2000)\n",
    "```\n",
    "因为是function object，意味着我们无法限定这个function的输入参数，建议使用lambda来传入参数，这样对于train evaluate的input_fn并不需要重新命名。\n",
    "```python\n",
    "classifier.train(input_fn=lambda: my_input_fn(training_set), steps=2000)\n",
    "classifier.evaluate(input_fn=lambda: my_input_fn(test_set), steps=2000)\n",
    "```\n",
    "如果需要更多的参数来控制function可以采用以下方法从numpy或pandas获取data set。\n",
    "\n",
    "```python\n",
    "import pandas as pd\n",
    "\n",
    "def get_input_fn_from_pandas(data_set, num_epochs=None, shuffle=True):\n",
    "  return tf.estimator.inputs.pandas_input_fn(\n",
    "      x=pdDataFrame(...),\n",
    "      y=pd.Series(...),\n",
    "      num_epochs=num_epochs,\n",
    "      shuffle=shuffle)\n",
    "      \n",
    "import numpy as np\n",
    "\n",
    "def get_input_fn_from_numpy(data_set, num_epochs=None, shuffle=True):\n",
    "  return tf.estimator.inputs.numpy_input_fn(\n",
    "      x={...},\n",
    "      y=np.array(...),\n",
    "      num_epochs=num_epochs,\n",
    "      shuffle=shuffle)\n",
    "```\n",
    "\n",
    "[tf.estimator.inputs.pandas_input_fn api](https://www.tensorflow.org/api_docs/python/tf/estimator/inputs/pandas_input_fn)\n",
    "\n",
    "[ tf.estimator.inputs.numpy_input_fn api](https://www.tensorflow.org/api_docs/python/tf/estimator/inputs/numpy_input_fn)"
   ]
  },
  {
   "cell_type": "markdown",
   "metadata": {},
   "source": [
    "# Boston House Values DNN\n",
    "\n",
    "实作input_fn在DNN上。\n",
    "\n",
    "[itertools 介绍](https://docs.python.org/3/library/itertools.html)"
   ]
  },
  {
   "cell_type": "code",
   "execution_count": 2,
   "metadata": {
    "collapsed": false
   },
   "outputs": [],
   "source": [
    "from __future__ import absolute_import\n",
    "from __future__ import division\n",
    "from __future__ import print_function\n",
    "\n",
    "import itertools\n",
    "\n",
    "import pandas as pd\n",
    "\n",
    "tf.logging.set_verbosity(tf.logging.INFO)"
   ]
  },
  {
   "cell_type": "markdown",
   "metadata": {},
   "source": [
    "定义columns，并利用pandas从csv内读取资料。\n",
    "\n",
    "skipinitialspace : boolean, default False\n",
    "Skip spaces after delimiter.\n",
    "\n",
    "在delimiter后为什么会有spaces？自己测试True or False好像没有太大的区别。"
   ]
  },
  {
   "cell_type": "code",
   "execution_count": 3,
   "metadata": {
    "collapsed": false,
    "scrolled": true
   },
   "outputs": [],
   "source": [
    "COLUMNS = [\"crim\", \"zn\", \"indus\", \"nox\", \"rm\", \"age\", \"dis\", \"tax\", \"ptratio\", \"medv\"]\n",
    "FEATURES = [\"crim\", \"zn\", \"indus\", \"nox\", \"rm\", \"age\", \"dis\", \"tax\", \"ptratio\"]\n",
    "LABEL = \"medv\"\n",
    "\n",
    "training_set = pd.read_csv(\"./data/boston/boston_train.csv\",\n",
    "                           skipinitialspace=True,\n",
    "                           skiprows=1,\n",
    "                           names=COLUMNS)\n",
    "test_set = pd.read_csv(\"./data/boston/boston_test.csv\",\n",
    "                      skipinitialspace=True,\n",
    "                      skiprows=1,\n",
    "                      names=COLUMNS)\n",
    "prediction_set = pd.read_csv(\"./data/boston/boston_predict.csv\",\n",
    "                            skipinitialspace=True,\n",
    "                            skiprows=1,\n",
    "                            names=COLUMNS)"
   ]
  },
  {
   "cell_type": "markdown",
   "metadata": {},
   "source": [
    "### 建构FeatureColumn\n",
    "\n",
    "需要产生一个NumericColum的list\n",
    "\n",
    "建構get_input_fn，让他return一个input function object，这样可以输入一些参数。\n",
    "\n",
    "**num_epochs**：在training的时候设定为None，让train函数的steps控制次数。而在evaluate的时候设定为1，这样的话input_fn只跑一次。"
   ]
  },
  {
   "cell_type": "code",
   "execution_count": 4,
   "metadata": {
    "collapsed": false
   },
   "outputs": [
    {
     "name": "stdout",
     "output_type": "stream",
     "text": [
      "INFO:tensorflow:Using default config.\n",
      "INFO:tensorflow:Using config: {'_session_config': None, '_save_checkpoints_secs': 600, '_model_dir': './model/boston_model', '_save_summary_steps': 100, '_save_checkpoints_steps': None, '_log_step_count_steps': 100, '_keep_checkpoint_every_n_hours': 10000, '_tf_random_seed': 1, '_keep_checkpoint_max': 5}\n"
     ]
    }
   ],
   "source": [
    "feature_cols = [tf.feature_column.numeric_column(k) for k in FEATURES]\n",
    "regressor = tf.estimator.DNNRegressor(feature_columns=feature_cols,\n",
    "                                     hidden_units=[10,10],\n",
    "                                     model_dir=\"./model/boston_model\")\n",
    "\n",
    "# Building the input_fn\n",
    "\n",
    "def get_input_fn(data_set, num_epochs=None, shuffle=True):\n",
    "    return tf.estimator.inputs.pandas_input_fn(\n",
    "        x=pd.DataFrame({k: data_set[k].values for k in FEATURES}),\n",
    "        y=pd.Series(data_set[LABEL].values),\n",
    "        num_epochs=num_epochs,\n",
    "        shuffle=shuffle)"
   ]
  },
  {
   "cell_type": "markdown",
   "metadata": {},
   "source": [
    "设定5000次steps，并传入training_set。"
   ]
  },
  {
   "cell_type": "code",
   "execution_count": 5,
   "metadata": {
    "collapsed": false,
    "scrolled": true
   },
   "outputs": [
    {
     "name": "stdout",
     "output_type": "stream",
     "text": [
      "INFO:tensorflow:Create CheckpointSaverHook.\n",
      "INFO:tensorflow:Saving checkpoints for 1 into ./model/boston_model/model.ckpt.\n",
      "INFO:tensorflow:step = 1, loss = 63545.5\n",
      "INFO:tensorflow:global_step/sec: 273.536\n",
      "INFO:tensorflow:step = 101, loss = 12561.4 (0.368 sec)\n",
      "INFO:tensorflow:global_step/sec: 293.763\n",
      "INFO:tensorflow:step = 201, loss = 8470.22 (0.340 sec)\n",
      "INFO:tensorflow:global_step/sec: 280.712\n",
      "INFO:tensorflow:step = 301, loss = 8534.33 (0.356 sec)\n",
      "INFO:tensorflow:global_step/sec: 329.742\n",
      "INFO:tensorflow:step = 401, loss = 8946.54 (0.305 sec)\n",
      "INFO:tensorflow:global_step/sec: 284.022\n",
      "INFO:tensorflow:step = 501, loss = 9360.59 (0.350 sec)\n",
      "INFO:tensorflow:global_step/sec: 206.67\n",
      "INFO:tensorflow:step = 601, loss = 12299.7 (0.485 sec)\n",
      "INFO:tensorflow:global_step/sec: 223.966\n",
      "INFO:tensorflow:step = 701, loss = 8387.04 (0.445 sec)\n",
      "INFO:tensorflow:global_step/sec: 247.142\n",
      "INFO:tensorflow:step = 801, loss = 8279.5 (0.407 sec)\n",
      "INFO:tensorflow:global_step/sec: 296.834\n",
      "INFO:tensorflow:step = 901, loss = 6615.07 (0.335 sec)\n",
      "INFO:tensorflow:global_step/sec: 281.414\n",
      "INFO:tensorflow:step = 1001, loss = 7639.13 (0.356 sec)\n",
      "INFO:tensorflow:global_step/sec: 286.812\n",
      "INFO:tensorflow:step = 1101, loss = 5860.44 (0.346 sec)\n",
      "INFO:tensorflow:global_step/sec: 310.583\n",
      "INFO:tensorflow:step = 1201, loss = 6968.77 (0.324 sec)\n",
      "INFO:tensorflow:global_step/sec: 314.423\n",
      "INFO:tensorflow:step = 1301, loss = 7342.67 (0.318 sec)\n",
      "INFO:tensorflow:global_step/sec: 325.99\n",
      "INFO:tensorflow:step = 1401, loss = 7457.32 (0.305 sec)\n",
      "INFO:tensorflow:global_step/sec: 298.958\n",
      "INFO:tensorflow:step = 1501, loss = 6156.67 (0.336 sec)\n",
      "INFO:tensorflow:global_step/sec: 285.875\n",
      "INFO:tensorflow:step = 1601, loss = 5386.77 (0.355 sec)\n",
      "INFO:tensorflow:global_step/sec: 190.653\n",
      "INFO:tensorflow:step = 1701, loss = 3133.81 (0.519 sec)\n",
      "INFO:tensorflow:global_step/sec: 187.279\n",
      "INFO:tensorflow:step = 1801, loss = 6849.48 (0.533 sec)\n",
      "INFO:tensorflow:global_step/sec: 301.634\n",
      "INFO:tensorflow:step = 1901, loss = 3279.79 (0.330 sec)\n",
      "INFO:tensorflow:global_step/sec: 269.656\n",
      "INFO:tensorflow:step = 2001, loss = 5129.81 (0.373 sec)\n",
      "INFO:tensorflow:global_step/sec: 264.35\n",
      "INFO:tensorflow:step = 2101, loss = 4032.53 (0.378 sec)\n",
      "INFO:tensorflow:global_step/sec: 291.86\n",
      "INFO:tensorflow:step = 2201, loss = 7089.33 (0.341 sec)\n",
      "INFO:tensorflow:global_step/sec: 298.47\n",
      "INFO:tensorflow:step = 2301, loss = 3983.15 (0.337 sec)\n",
      "INFO:tensorflow:global_step/sec: 307.153\n",
      "INFO:tensorflow:step = 2401, loss = 3800.76 (0.326 sec)\n",
      "INFO:tensorflow:global_step/sec: 267.29\n",
      "INFO:tensorflow:step = 2501, loss = 3504.47 (0.376 sec)\n",
      "INFO:tensorflow:global_step/sec: 270.655\n",
      "INFO:tensorflow:step = 2601, loss = 4075.26 (0.369 sec)\n",
      "INFO:tensorflow:global_step/sec: 275.314\n",
      "INFO:tensorflow:step = 2701, loss = 2919.07 (0.363 sec)\n",
      "INFO:tensorflow:global_step/sec: 196.665\n",
      "INFO:tensorflow:step = 2801, loss = 3810.54 (0.510 sec)\n",
      "INFO:tensorflow:global_step/sec: 216.673\n",
      "INFO:tensorflow:step = 2901, loss = 2834.51 (0.460 sec)\n",
      "INFO:tensorflow:global_step/sec: 218.791\n",
      "INFO:tensorflow:step = 3001, loss = 5256.7 (0.455 sec)\n",
      "INFO:tensorflow:global_step/sec: 229.634\n",
      "INFO:tensorflow:step = 3101, loss = 2920.88 (0.436 sec)\n",
      "INFO:tensorflow:global_step/sec: 272.466\n",
      "INFO:tensorflow:step = 3201, loss = 5961.69 (0.366 sec)\n",
      "INFO:tensorflow:global_step/sec: 302.959\n",
      "INFO:tensorflow:step = 3301, loss = 3432.14 (0.330 sec)\n",
      "INFO:tensorflow:global_step/sec: 318.141\n",
      "INFO:tensorflow:step = 3401, loss = 4020.88 (0.314 sec)\n",
      "INFO:tensorflow:global_step/sec: 313.164\n",
      "INFO:tensorflow:step = 3501, loss = 4453.47 (0.317 sec)\n",
      "INFO:tensorflow:global_step/sec: 300.135\n",
      "INFO:tensorflow:step = 3601, loss = 3256.73 (0.335 sec)\n",
      "INFO:tensorflow:global_step/sec: 344.459\n",
      "INFO:tensorflow:step = 3701, loss = 3180.0 (0.291 sec)\n",
      "INFO:tensorflow:global_step/sec: 332.817\n",
      "INFO:tensorflow:step = 3801, loss = 3776.45 (0.298 sec)\n",
      "INFO:tensorflow:global_step/sec: 335.04\n",
      "INFO:tensorflow:step = 3901, loss = 2303.78 (0.302 sec)\n",
      "INFO:tensorflow:global_step/sec: 293.131\n",
      "INFO:tensorflow:step = 4001, loss = 2394.25 (0.337 sec)\n",
      "INFO:tensorflow:global_step/sec: 355.557\n",
      "INFO:tensorflow:step = 4101, loss = 3248.62 (0.283 sec)\n",
      "INFO:tensorflow:global_step/sec: 345.038\n",
      "INFO:tensorflow:step = 4201, loss = 3040.5 (0.288 sec)\n",
      "INFO:tensorflow:global_step/sec: 350.304\n",
      "INFO:tensorflow:step = 4301, loss = 1369.13 (0.285 sec)\n",
      "INFO:tensorflow:global_step/sec: 328.779\n",
      "INFO:tensorflow:step = 4401, loss = 4004.69 (0.305 sec)\n",
      "INFO:tensorflow:global_step/sec: 319.166\n",
      "INFO:tensorflow:step = 4501, loss = 2431.03 (0.314 sec)\n",
      "INFO:tensorflow:global_step/sec: 324.556\n",
      "INFO:tensorflow:step = 4601, loss = 3157.48 (0.308 sec)\n",
      "INFO:tensorflow:global_step/sec: 309.725\n",
      "INFO:tensorflow:step = 4701, loss = 4938.26 (0.322 sec)\n",
      "INFO:tensorflow:global_step/sec: 304.124\n",
      "INFO:tensorflow:step = 4801, loss = 1879.45 (0.330 sec)\n",
      "INFO:tensorflow:global_step/sec: 325.525\n",
      "INFO:tensorflow:step = 4901, loss = 4059.62 (0.306 sec)\n",
      "INFO:tensorflow:Saving checkpoints for 5000 into ./model/boston_model/model.ckpt.\n",
      "INFO:tensorflow:Loss for final step: 3727.63.\n"
     ]
    },
    {
     "data": {
      "text/plain": [
       "<tensorflow.python.estimator.canned.dnn.DNNRegressor at 0x10fcc1e10>"
      ]
     },
     "execution_count": 5,
     "metadata": {},
     "output_type": "execute_result"
    }
   ],
   "source": [
    "regressor.train(input_fn=get_input_fn(training_set), steps=5000)"
   ]
  },
  {
   "cell_type": "markdown",
   "metadata": {},
   "source": [
    "### 评估模型\n",
    "利用test_set和model.evaluate来评估模型的好坏程度。"
   ]
  },
  {
   "cell_type": "code",
   "execution_count": 6,
   "metadata": {
    "collapsed": false
   },
   "outputs": [
    {
     "name": "stdout",
     "output_type": "stream",
     "text": [
      "INFO:tensorflow:Starting evaluation at 2017-08-22-07:58:51\n",
      "INFO:tensorflow:Restoring parameters from ./model/boston_model/model.ckpt-5000\n",
      "INFO:tensorflow:Finished evaluation at 2017-08-22-07:58:52\n",
      "INFO:tensorflow:Saving dict for global step 5000: average_loss = 11.6668, global_step = 5000, loss = 1166.68\n",
      "Loss: 1166.682007\n"
     ]
    }
   ],
   "source": [
    "ev = regressor.evaluate(input_fn=get_input_fn(test_set, num_epochs=1, shuffle=False))\n",
    "loss_score = ev[\"loss\"]\n",
    "print(\"Loss: {0:f}\".format(loss_score))"
   ]
  },
  {
   "cell_type": "markdown",
   "metadata": {},
   "source": [
    "### 模型预测\n",
    "\n",
    "利用model.predict来预测prediction_set。"
   ]
  },
  {
   "cell_type": "code",
   "execution_count": 7,
   "metadata": {
    "collapsed": false
   },
   "outputs": [
    {
     "name": "stdout",
     "output_type": "stream",
     "text": [
      "INFO:tensorflow:Restoring parameters from ./model/boston_model/model.ckpt-5000\n",
      "Predictions: [array([ 33.97800827], dtype=float32), array([ 17.9919014], dtype=float32), array([ 22.92975616], dtype=float32), array([ 34.99908829], dtype=float32), array([ 15.19650364], dtype=float32), array([ 18.20902252], dtype=float32)]\n"
     ]
    }
   ],
   "source": [
    "y = regressor.predict(\n",
    "    input_fn=get_input_fn(prediction_set, num_epochs=1, shuffle=False))\n",
    "# .predict() returns an iterator of dicts; convert to a list and print\n",
    "# predictions\n",
    "predictions = list(p[\"predictions\"] for p in itertools.islice(y, 6))\n",
    "print(\"Predictions: {}\".format(str(predictions)))"
   ]
  }
 ],
 "metadata": {
  "kernelspec": {
   "display_name": "Python 3",
   "language": "python",
   "name": "python3"
  },
  "language_info": {
   "codemirror_mode": {
    "name": "ipython",
    "version": 3
   },
   "file_extension": ".py",
   "mimetype": "text/x-python",
   "name": "python",
   "nbconvert_exporter": "python",
   "pygments_lexer": "ipython3",
   "version": "3.5.2"
  }
 },
 "nbformat": 4,
 "nbformat_minor": 1
}
