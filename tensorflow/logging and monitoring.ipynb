{
 "cells": [
  {
   "cell_type": "markdown",
   "metadata": {
    "collapsed": true
   },
   "source": [
    "# Logging and Monitoring Basics with tf.contrib.learn 读书笔记\n",
    "[tf官方原文](https://www.tensorflow.org/get_started/monitors)\n",
    "\n",
    "这篇文章是基于[quickstart的模型](quickstart.ipynb)\n",
    "\n",
    "在用keras的时候一直都知道monitoring是非常重要的东西，因为overfitting可以用earlystoping来解决问题，而earlystoping和monitoring是紧密相关的。\n",
    "\n",
    "tensorflow有提供[Monitor API](https://www.tensorflow.org/api_docs/python/tf/contrib/learn/monitors)来进行在training阶段的监控。\n",
    "\n",
    "## 在TensorFlow中开启Logging\n",
    "\n",
    "在tensorflow中有5种不同levels的log讯息。从小到大分别是，**DEBUG, INFO, WARN, ERROR, FATAL**，如果将log level设定为ERROR，就会将ERROR和FATAL都一起log出来，同理，设定DEBUG就会将所有讯息都一起log。\n",
    "\n",
    "tf的Default设定是 **WARN**，可是为了要能够将fit内部的讯息log出来，要设定为 **INFO** *（现在好像改掉了，default就是**INFO**）*\n",
    "\n",
    "```python\n",
    "tf.logging.set_verbosity(tf.logging.INFO)\n",
    "```\n",
    "\n",
    "只要设定为INFO，就会出现每100 steps出现一个log，并将loss metrics内的东西显示出来。类似于下方讯息。\n",
    "\n",
    "```python\n",
    "INFO:tensorflow:loss = 1.18812, step = 1\n",
    "INFO:tensorflow:loss = 0.210323, step = 101\n",
    "INFO:tensorflow:loss = 0.109025, step = 201\n",
    "```\n",
    "\n",
    "## ValidationMonitor\n",
    "\n",
    "其实在tf中还有除了ValidationMonitor之外的模组，可是这个感觉比较常用，而且对我来说好像就够用了。\n",
    "\n",
    "google对ValidationMonitor的描述：Logs a specified set of evaluation metrics at every n steps of training, and, if desired, implements early stopping under certain conditions\n",
    "\n",
    "利用test_set中的资料来防止overfitting，并且每50 steps evaluate一次。\n",
    "\n",
    "```python\n",
    "validation_monitor = tf.contrib.learn.monitors.ValidationMonitor(\n",
    "    test_set.data,\n",
    "    test_set.target,\n",
    "    every_n_steps=50)\n",
    "```\n",
    "\n",
    "详细参考[ValidationMonitor \\_\\_init\\_\\_](https://www.tensorflow.org/versions/r0.12/api_docs/python/contrib.learn.monitors/ops#ValidationMonitor)\n"
   ]
  }
 ],
 "metadata": {
  "kernelspec": {
   "display_name": "Python 3",
   "language": "python",
   "name": "python3"
  },
  "language_info": {
   "codemirror_mode": {
    "name": "ipython",
    "version": 3
   },
   "file_extension": ".py",
   "mimetype": "text/x-python",
   "name": "python",
   "nbconvert_exporter": "python",
   "pygments_lexer": "ipython3",
   "version": "3.5.2"
  }
 },
 "nbformat": 4,
 "nbformat_minor": 1
}
