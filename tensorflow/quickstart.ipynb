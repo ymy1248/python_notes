{
 "cells": [
  {
   "cell_type": "markdown",
   "metadata": {},
   "source": [
    "# tf.estimator quickstart 读书笔记\n",
    "\n",
    "[tf官方文件](https://www.tensorflow.org/get_started/estimator)\n",
    "\n",
    "简单的Deep Learning的模型，实作iris dataset。\n",
    "\n",
    "import和资料参数。"
   ]
  },
  {
   "cell_type": "code",
   "execution_count": 1,
   "metadata": {
    "collapsed": true
   },
   "outputs": [],
   "source": [
    "from __future__ import absolute_import\n",
    "from __future__ import division\n",
    "from __future__ import print_function\n",
    "\n",
    "import os\n",
    "import urllib\n",
    "\n",
    "import tensorflow as tf\n",
    "import numpy as np\n",
    "\n",
    "# tf.logging.set_verbosity(tf.logging.WARN)\n",
    "\n",
    "IRIS_TRAINING = \"./data/iris/iris_training.csv\"\n",
    "IRIS_TRAINING_URL = \"http://download.tensorflow.org/data/iris_training.csv\"\n",
    "\n",
    "IRIS_TEST = \"./data/iris/iris_test.csv\"\n",
    "IRIS_TEST_URL = \"http://download.tensorflow.org/data/iris_test.csv\""
   ]
  },
  {
   "cell_type": "markdown",
   "metadata": {},
   "source": [
    "## 读取资料\n",
    "确认是否存在资料，没有的话就下载"
   ]
  },
  {
   "cell_type": "code",
   "execution_count": 2,
   "metadata": {
    "collapsed": true
   },
   "outputs": [],
   "source": [
    "if not os.path.exists(IRIS_TRAINING):\n",
    "    raw = urllib.urlopen(IRIS_TRAINING_URL).read()\n",
    "    with open(IRIS_TRAINING, 'w') as f:\n",
    "        f.write(raw)\n",
    "\n",
    "if not os.path.exists(IRIS_TEST):\n",
    "    raw = urllib.urlopen(IRIS_TEST_URL).read()\n",
    "    with open(IRIS_TEST, 'w') as f:\n",
    "        f.write(raw)"
   ]
  },
  {
   "cell_type": "markdown",
   "metadata": {},
   "source": [
    "利用load_csv_with_header()來讀取資料。\n",
    "\n",
    "return的是Dataset，可以取得dataset.data和dataset.target取得feature和target。"
   ]
  },
  {
   "cell_type": "code",
   "execution_count": 3,
   "metadata": {
    "collapsed": false
   },
   "outputs": [],
   "source": [
    "training_set = tf.contrib.learn.datasets.base.load_csv_with_header(\n",
    "    filename=IRIS_TRAINING,\n",
    "    target_dtype=np.int,\n",
    "    features_dtype=np.float32,)\n",
    "test_set = tf.contrib.learn.datasets.base.load_csv_with_header(\n",
    "    filename=IRIS_TEST,\n",
    "    target_dtype=np.int,\n",
    "    features_dtype=np.float32,)"
   ]
  },
  {
   "cell_type": "markdown",
   "metadata": {},
   "source": [
    "## 建构模型\n",
    "\n",
    "[tf.estimator](https://www.tensorflow.org/api_docs/python/tf/estimator)里面有很多内建的模型，和keras一样，先要定义一个模型。\n",
    "\n",
    "feature_columns:需要定义每一个column的名字，这里都简单的定义为4个x（本来就有4个dimension）。"
   ]
  },
  {
   "cell_type": "code",
   "execution_count": 4,
   "metadata": {
    "collapsed": false
   },
   "outputs": [
    {
     "name": "stdout",
     "output_type": "stream",
     "text": [
      "INFO:tensorflow:Using default config.\n",
      "INFO:tensorflow:Using config: {'_session_config': None, '_save_checkpoints_steps': None, '_model_dir': './model/iris_model', '_keep_checkpoint_every_n_hours': 10000, '_tf_random_seed': 1, '_save_summary_steps': 100, '_save_checkpoints_secs': 600, '_keep_checkpoint_max': 5, '_log_step_count_steps': 100}\n"
     ]
    }
   ],
   "source": [
    "feature_columns = [tf.feature_column.numeric_column(\"x\", shape=[4])]\n",
    "classifier = tf.estimator.DNNClassifier(feature_columns=feature_columns,\n",
    "                                        hidden_units=[10, 20, 10],\n",
    "                                        n_classes=3,\n",
    "                                        model_dir=\"./model/iris_model\")"
   ]
  },
  {
   "cell_type": "markdown",
   "metadata": {},
   "source": [
    "建立input function"
   ]
  },
  {
   "cell_type": "code",
   "execution_count": 5,
   "metadata": {
    "collapsed": true
   },
   "outputs": [],
   "source": [
    "train_input_fn = tf.estimator.inputs.numpy_input_fn(\n",
    "    x={\"x\": np.array(training_set.data)},\n",
    "    y=np.array(training_set.target),\n",
    "    num_epochs=None,\n",
    "    shuffle=True,)"
   ]
  },
  {
   "cell_type": "markdown",
   "metadata": {},
   "source": [
    "## 训练\n",
    "利用estimator.train訓練模型。"
   ]
  },
  {
   "cell_type": "code",
   "execution_count": 6,
   "metadata": {
    "collapsed": false
   },
   "outputs": [
    {
     "name": "stdout",
     "output_type": "stream",
     "text": [
      "INFO:tensorflow:Create CheckpointSaverHook.\n",
      "INFO:tensorflow:Restoring parameters from ./model/iris_model/model.ckpt-6000\n",
      "INFO:tensorflow:Saving checkpoints for 6001 into ./model/iris_model/model.ckpt.\n",
      "INFO:tensorflow:loss = 2.8333, step = 6001\n",
      "INFO:tensorflow:global_step/sec: 438.92\n",
      "INFO:tensorflow:loss = 5.2369, step = 6101 (0.228 sec)\n",
      "INFO:tensorflow:global_step/sec: 482.644\n",
      "INFO:tensorflow:loss = 3.10843, step = 6201 (0.207 sec)\n",
      "INFO:tensorflow:global_step/sec: 483.681\n",
      "INFO:tensorflow:loss = 1.39152, step = 6301 (0.207 sec)\n",
      "INFO:tensorflow:global_step/sec: 536.412\n",
      "INFO:tensorflow:loss = 1.17104, step = 6401 (0.186 sec)\n",
      "INFO:tensorflow:global_step/sec: 596.381\n",
      "INFO:tensorflow:loss = 3.0375, step = 6501 (0.167 sec)\n",
      "INFO:tensorflow:global_step/sec: 483.615\n",
      "INFO:tensorflow:loss = 1.61845, step = 6601 (0.208 sec)\n",
      "INFO:tensorflow:global_step/sec: 524.783\n",
      "INFO:tensorflow:loss = 3.80506, step = 6701 (0.190 sec)\n",
      "INFO:tensorflow:global_step/sec: 588.89\n",
      "INFO:tensorflow:loss = 3.86744, step = 6801 (0.170 sec)\n",
      "INFO:tensorflow:global_step/sec: 588.43\n",
      "INFO:tensorflow:loss = 4.43001, step = 6901 (0.170 sec)\n",
      "INFO:tensorflow:global_step/sec: 583.676\n",
      "INFO:tensorflow:loss = 5.21182, step = 7001 (0.172 sec)\n",
      "INFO:tensorflow:global_step/sec: 544.909\n",
      "INFO:tensorflow:loss = 4.82321, step = 7101 (0.183 sec)\n",
      "INFO:tensorflow:global_step/sec: 481.422\n",
      "INFO:tensorflow:loss = 4.55899, step = 7201 (0.208 sec)\n",
      "INFO:tensorflow:global_step/sec: 479.276\n",
      "INFO:tensorflow:loss = 2.95522, step = 7301 (0.208 sec)\n",
      "INFO:tensorflow:global_step/sec: 508.36\n",
      "INFO:tensorflow:loss = 2.60982, step = 7401 (0.197 sec)\n",
      "INFO:tensorflow:global_step/sec: 398.844\n",
      "INFO:tensorflow:loss = 3.85364, step = 7501 (0.251 sec)\n",
      "INFO:tensorflow:global_step/sec: 563.91\n",
      "INFO:tensorflow:loss = 1.35518, step = 7601 (0.178 sec)\n",
      "INFO:tensorflow:global_step/sec: 562.195\n",
      "INFO:tensorflow:loss = 2.13858, step = 7701 (0.178 sec)\n",
      "INFO:tensorflow:global_step/sec: 476.207\n",
      "INFO:tensorflow:loss = 3.21669, step = 7801 (0.210 sec)\n",
      "INFO:tensorflow:global_step/sec: 606.446\n",
      "INFO:tensorflow:loss = 3.87784, step = 7901 (0.166 sec)\n",
      "INFO:tensorflow:Saving checkpoints for 8000 into ./model/iris_model/model.ckpt.\n",
      "INFO:tensorflow:Loss for final step: 2.88635.\n"
     ]
    },
    {
     "data": {
      "text/plain": [
       "<tensorflow.python.estimator.canned.dnn.DNNClassifier at 0x10f6f3940>"
      ]
     },
     "execution_count": 6,
     "metadata": {},
     "output_type": "execute_result"
    }
   ],
   "source": [
    "classifier.train(input_fn=train_input_fn, steps=2000)"
   ]
  },
  {
   "cell_type": "markdown",
   "metadata": {},
   "source": [
    "## 评估模型\n",
    "\n",
    "同样要建构一个给evaluate的input function（其实建构一个,传入不同参数[参考input_fn](input%20function.ipynb)）"
   ]
  },
  {
   "cell_type": "code",
   "execution_count": 7,
   "metadata": {
    "collapsed": false
   },
   "outputs": [
    {
     "name": "stdout",
     "output_type": "stream",
     "text": [
      "INFO:tensorflow:Starting evaluation at 2017-08-23-10:47:23\n",
      "INFO:tensorflow:Restoring parameters from ./model/iris_model/model.ckpt-8000\n",
      "INFO:tensorflow:Finished evaluation at 2017-08-23-10:47:24\n",
      "INFO:tensorflow:Saving dict for global step 8000: accuracy = 0.966667, average_loss = 0.0993558, global_step = 8000, loss = 2.98067\n",
      "\n",
      "Test Accuracy: 0.966667\n",
      "\n"
     ]
    }
   ],
   "source": [
    "test_input_fn = tf.estimator.inputs.numpy_input_fn(\n",
    "    x={\"x\": np.array(test_set.data)},\n",
    "    y=np.array(test_set.target),\n",
    "    num_epochs=1,\n",
    "    shuffle=False)\n",
    "\n",
    "accuracy_score = classifier.evaluate(input_fn=test_input_fn)[\"accuracy\"]\n",
    "\n",
    "print(\"\\nTest Accuracy: {0:f}\\n\".format(accuracy_score))"
   ]
  },
  {
   "cell_type": "markdown",
   "metadata": {},
   "source": [
    "## 预测模型"
   ]
  },
  {
   "cell_type": "markdown",
   "metadata": {},
   "source": [
    "同样利用estimator中的predict加上构建的input_fn来预测新的资讯。"
   ]
  },
  {
   "cell_type": "code",
   "execution_count": 8,
   "metadata": {
    "collapsed": false
   },
   "outputs": [
    {
     "name": "stdout",
     "output_type": "stream",
     "text": [
      "INFO:tensorflow:Restoring parameters from ./model/iris_model/model.ckpt-8000\n",
      "New Samples, Class Predictions:    [array([b'1'], dtype=object), array([b'1'], dtype=object)]\n",
      "\n"
     ]
    }
   ],
   "source": [
    "new_samples = np.array(\n",
    "    [[6.4, 3.2, 4.5, 1.5],\n",
    "     [5.8, 3.1, 5.0, 1.7]], dtype=np.float32)\n",
    "predict_input_fn = tf.estimator.inputs.numpy_input_fn(\n",
    "    x={\"x\": new_samples},\n",
    "    num_epochs=1,\n",
    "    shuffle=False)\n",
    "\n",
    "predictions = list(classifier.predict(input_fn=predict_input_fn))\n",
    "predicted_classes = [p[\"classes\"] for p in predictions]\n",
    "\n",
    "print(\n",
    "    \"New Samples, Class Predictions:    {}\\n\"\n",
    "    .format(predicted_classes))"
   ]
  }
 ],
 "metadata": {
  "kernelspec": {
   "display_name": "Python 3",
   "language": "python",
   "name": "python3"
  },
  "language_info": {
   "codemirror_mode": {
    "name": "ipython",
    "version": 3
   },
   "file_extension": ".py",
   "mimetype": "text/x-python",
   "name": "python",
   "nbconvert_exporter": "python",
   "pygments_lexer": "ipython3",
   "version": "3.5.2"
  }
 },
 "nbformat": 4,
 "nbformat_minor": 1
}
