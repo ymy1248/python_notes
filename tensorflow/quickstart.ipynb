{
 "cells": [
  {
   "cell_type": "markdown",
   "metadata": {},
   "source": [
    "# tf.estimator quickstart 读书笔记\n",
    "\n",
    "[tf官方文件](https://www.tensorflow.org/get_started/estimator)\n",
    "\n",
    "简单的Deep Learning的模型，实作iris dataset。\n",
    "\n",
    "import和资料参数。"
   ]
  },
  {
   "cell_type": "code",
   "execution_count": 1,
   "metadata": {
    "collapsed": true
   },
   "outputs": [],
   "source": [
    "from __future__ import absolute_import\n",
    "from __future__ import division\n",
    "from __future__ import print_function\n",
    "\n",
    "import os\n",
    "import urllib\n",
    "\n",
    "import tensorflow as tf\n",
    "import numpy as np\n",
    "\n",
    "IRIS_TRAINING = \"./data/iris/iris_training.csv\"\n",
    "IRIS_TRAINING_URL = \"http://download.tensorflow.org/data/iris_training.csv\"\n",
    "\n",
    "IRIS_TEST = \"./data/iris/iris_test.csv\"\n",
    "IRIS_TEST_URL = \"http://download.tensorflow.org/data/iris_test.csv\""
   ]
  },
  {
   "cell_type": "markdown",
   "metadata": {},
   "source": [
    "## 读取资料\n",
    "确认是否存在资料，没有的话就下载"
   ]
  },
  {
   "cell_type": "code",
   "execution_count": 2,
   "metadata": {
    "collapsed": true
   },
   "outputs": [],
   "source": [
    "if not os.path.exists(IRIS_TRAINING):\n",
    "    raw = urllib.urlopen(IRIS_TRAINING_URL).read()\n",
    "    with open(IRIS_TRAINING, 'w') as f:\n",
    "        f.write(raw)\n",
    "\n",
    "if not os.path.exists(IRIS_TEST):\n",
    "    raw = urllib.urlopen(IRIS_TEST_URL).read()\n",
    "    with open(IRIS_TEST, 'w') as f:\n",
    "        f.write(raw)"
   ]
  },
  {
   "cell_type": "markdown",
   "metadata": {},
   "source": [
    "利用load_csv_with_header()來讀取資料。\n",
    "\n",
    "return的是Dataset，可以取得dataset.data和dataset.target取得feature和target。"
   ]
  },
  {
   "cell_type": "code",
   "execution_count": 3,
   "metadata": {
    "collapsed": false
   },
   "outputs": [],
   "source": [
    "training_set = tf.contrib.learn.datasets.base.load_csv_with_header(\n",
    "    filename=IRIS_TRAINING,\n",
    "    target_dtype=np.int,\n",
    "    features_dtype=np.float32,)\n",
    "test_set = tf.contrib.learn.datasets.base.load_csv_with_header(\n",
    "    filename=IRIS_TEST,\n",
    "    target_dtype=np.int,\n",
    "    features_dtype=np.float32,)"
   ]
  },
  {
   "cell_type": "markdown",
   "metadata": {},
   "source": [
    "## 建构模型\n",
    "\n",
    "[tf.estimator](https://www.tensorflow.org/api_docs/python/tf/estimator)里面有很多内建的模型，和keras一样，先要定义一个模型。\n",
    "\n",
    "feature_columns:需要定义每一个column的名字，这里都简单的定义为4个x（本来就有4个dimension）。"
   ]
  },
  {
   "cell_type": "code",
   "execution_count": 4,
   "metadata": {
    "collapsed": false
   },
   "outputs": [
    {
     "name": "stdout",
     "output_type": "stream",
     "text": [
      "INFO:tensorflow:Using default config.\n",
      "INFO:tensorflow:Using config: {'_save_checkpoints_secs': 600, '_save_summary_steps': 100, '_session_config': None, '_log_step_count_steps': 100, '_keep_checkpoint_max': 5, '_save_checkpoints_steps': None, '_tf_random_seed': 1, '_keep_checkpoint_every_n_hours': 10000, '_model_dir': './model/iris_model'}\n"
     ]
    }
   ],
   "source": [
    "feature_columns = [tf.feature_column.numeric_column(\"x\", shape=[4])]\n",
    "classifier = tf.estimator.DNNClassifier(feature_columns=feature_columns,\n",
    "                                        hidden_units=[10, 20, 10],\n",
    "                                        n_classes=3,\n",
    "                                        model_dir=\"./model/iris_model\")"
   ]
  },
  {
   "cell_type": "markdown",
   "metadata": {},
   "source": [
    "建立input function"
   ]
  },
  {
   "cell_type": "code",
   "execution_count": 5,
   "metadata": {
    "collapsed": true
   },
   "outputs": [],
   "source": [
    "train_input_fn = tf.estimator.inputs.numpy_input_fn(\n",
    "    x={\"x\": np.array(training_set.data)},\n",
    "    y=np.array(training_set.target),\n",
    "    num_epochs=None,\n",
    "    shuffle=True,)"
   ]
  },
  {
   "cell_type": "markdown",
   "metadata": {},
   "source": [
    "## 训练\n",
    "利用estimator.train訓練模型。"
   ]
  },
  {
   "cell_type": "code",
   "execution_count": 6,
   "metadata": {
    "collapsed": false
   },
   "outputs": [
    {
     "name": "stdout",
     "output_type": "stream",
     "text": [
      "INFO:tensorflow:Create CheckpointSaverHook.\n",
      "INFO:tensorflow:Restoring parameters from ./model/iris_model/model.ckpt-2000\n",
      "INFO:tensorflow:Saving checkpoints for 2001 into ./model/iris_model/model.ckpt.\n",
      "INFO:tensorflow:loss = 6.6917, step = 2001\n",
      "INFO:tensorflow:global_step/sec: 422.132\n",
      "INFO:tensorflow:loss = 10.5437, step = 2101 (0.238 sec)\n",
      "INFO:tensorflow:global_step/sec: 547.079\n",
      "INFO:tensorflow:loss = 4.69869, step = 2201 (0.180 sec)\n",
      "INFO:tensorflow:global_step/sec: 576.934\n",
      "INFO:tensorflow:loss = 1.04251, step = 2301 (0.173 sec)\n",
      "INFO:tensorflow:global_step/sec: 591.278\n",
      "INFO:tensorflow:loss = 5.81058, step = 2401 (0.170 sec)\n",
      "INFO:tensorflow:global_step/sec: 527.359\n",
      "INFO:tensorflow:loss = 7.3451, step = 2501 (0.189 sec)\n",
      "INFO:tensorflow:global_step/sec: 520.522\n",
      "INFO:tensorflow:loss = 2.62255, step = 2601 (0.193 sec)\n",
      "INFO:tensorflow:global_step/sec: 522.13\n",
      "INFO:tensorflow:loss = 5.35887, step = 2701 (0.191 sec)\n",
      "INFO:tensorflow:global_step/sec: 506.544\n",
      "INFO:tensorflow:loss = 8.51034, step = 2801 (0.198 sec)\n",
      "INFO:tensorflow:global_step/sec: 515.799\n",
      "INFO:tensorflow:loss = 6.85723, step = 2901 (0.193 sec)\n",
      "INFO:tensorflow:global_step/sec: 555.003\n",
      "INFO:tensorflow:loss = 10.6358, step = 3001 (0.179 sec)\n",
      "INFO:tensorflow:global_step/sec: 570.275\n",
      "INFO:tensorflow:loss = 6.0791, step = 3101 (0.175 sec)\n",
      "INFO:tensorflow:global_step/sec: 551.645\n",
      "INFO:tensorflow:loss = 8.4076, step = 3201 (0.182 sec)\n",
      "INFO:tensorflow:global_step/sec: 548.498\n",
      "INFO:tensorflow:loss = 7.35093, step = 3301 (0.182 sec)\n",
      "INFO:tensorflow:global_step/sec: 440.16\n",
      "INFO:tensorflow:loss = 6.10755, step = 3401 (0.228 sec)\n",
      "INFO:tensorflow:global_step/sec: 411.139\n",
      "INFO:tensorflow:loss = 4.86349, step = 3501 (0.243 sec)\n",
      "INFO:tensorflow:global_step/sec: 490.98\n",
      "INFO:tensorflow:loss = 1.49999, step = 3601 (0.203 sec)\n",
      "INFO:tensorflow:global_step/sec: 522.603\n",
      "INFO:tensorflow:loss = 5.20071, step = 3701 (0.192 sec)\n",
      "INFO:tensorflow:global_step/sec: 553.348\n",
      "INFO:tensorflow:loss = 3.30525, step = 3801 (0.182 sec)\n",
      "INFO:tensorflow:global_step/sec: 518.261\n",
      "INFO:tensorflow:loss = 2.75486, step = 3901 (0.192 sec)\n",
      "INFO:tensorflow:Saving checkpoints for 4000 into ./model/iris_model/model.ckpt.\n",
      "INFO:tensorflow:Loss for final step: 6.27401.\n"
     ]
    },
    {
     "data": {
      "text/plain": [
       "<tensorflow.python.estimator.canned.dnn.DNNClassifier at 0x10fddc978>"
      ]
     },
     "execution_count": 6,
     "metadata": {},
     "output_type": "execute_result"
    }
   ],
   "source": [
    "classifier.train(input_fn=train_input_fn, steps=2000)"
   ]
  },
  {
   "cell_type": "markdown",
   "metadata": {},
   "source": [
    "## 评估模型\n",
    "\n",
    "同样要建构一个给evaluate的input function（其实建构一个,传入不同参数[参考input_fn](input%20function.ipynb)）"
   ]
  },
  {
   "cell_type": "code",
   "execution_count": 7,
   "metadata": {
    "collapsed": false
   },
   "outputs": [
    {
     "name": "stdout",
     "output_type": "stream",
     "text": [
      "INFO:tensorflow:Starting evaluation at 2017-08-22-13:54:27\n",
      "INFO:tensorflow:Restoring parameters from ./model/iris_model/model.ckpt-4000\n",
      "INFO:tensorflow:Finished evaluation at 2017-08-22-13:54:28\n",
      "INFO:tensorflow:Saving dict for global step 4000: accuracy = 0.966667, average_loss = 0.0611264, global_step = 4000, loss = 1.83379\n",
      "\n",
      "Test Accuracy: 0.966667\n",
      "\n"
     ]
    }
   ],
   "source": [
    "test_input_fn = tf.estimator.inputs.numpy_input_fn(\n",
    "    x={\"x\": np.array(test_set.data)},\n",
    "    y=np.array(test_set.target),\n",
    "    num_epochs=1,\n",
    "    shuffle=False)\n",
    "\n",
    "accuracy_score = classifier.evaluate(input_fn=test_input_fn)[\"accuracy\"]\n",
    "\n",
    "print(\"\\nTest Accuracy: {0:f}\\n\".format(accuracy_score))"
   ]
  },
  {
   "cell_type": "markdown",
   "metadata": {},
   "source": [
    "## 预测模型"
   ]
  },
  {
   "cell_type": "markdown",
   "metadata": {},
   "source": [
    "同样利用estimator中的predict加上构建的input_fn来预测新的资讯。"
   ]
  },
  {
   "cell_type": "code",
   "execution_count": 8,
   "metadata": {
    "collapsed": false
   },
   "outputs": [
    {
     "name": "stdout",
     "output_type": "stream",
     "text": [
      "INFO:tensorflow:Restoring parameters from ./model/iris_model/model.ckpt-4000\n",
      "New Samples, Class Predictions:    [array([b'1'], dtype=object), array([b'2'], dtype=object)]\n",
      "\n"
     ]
    }
   ],
   "source": [
    "new_samples = np.array(\n",
    "    [[6.4, 3.2, 4.5, 1.5],\n",
    "     [5.8, 3.1, 5.0, 1.7]], dtype=np.float32)\n",
    "predict_input_fn = tf.estimator.inputs.numpy_input_fn(\n",
    "    x={\"x\": new_samples},\n",
    "    num_epochs=1,\n",
    "    shuffle=False)\n",
    "\n",
    "predictions = list(classifier.predict(input_fn=predict_input_fn))\n",
    "predicted_classes = [p[\"classes\"] for p in predictions]\n",
    "\n",
    "print(\n",
    "    \"New Samples, Class Predictions:    {}\\n\"\n",
    "    .format(predicted_classes))"
   ]
  }
 ],
 "metadata": {
  "kernelspec": {
   "display_name": "Python 3",
   "language": "python",
   "name": "python3"
  },
  "language_info": {
   "codemirror_mode": {
    "name": "ipython",
    "version": 3
   },
   "file_extension": ".py",
   "mimetype": "text/x-python",
   "name": "python",
   "nbconvert_exporter": "python",
   "pygments_lexer": "ipython3",
   "version": "3.5.2"
  }
 },
 "nbformat": 4,
 "nbformat_minor": 1
}
