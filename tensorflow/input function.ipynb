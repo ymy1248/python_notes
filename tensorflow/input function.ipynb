{
 "cells": [
  {
   "cell_type": "markdown",
   "metadata": {},
   "source": [
    "# Building Input Functions with tf.estimator 读书笔记\n",
    "\n",
    "[tf官网原文](https://www.tensorflow.org/get_started/input_fn)\n",
    "\n",
    "input_fn 的目的是把feature传入Extimator中的train, evaluate和predict中。可以在input_fn中做feature engineering 或者 pre-processing"
   ]
  },
  {
   "cell_type": "code",
   "execution_count": 1,
   "metadata": {
    "collapsed": true
   },
   "outputs": [],
   "source": [
    "import tensorflow as tf"
   ]
  },
  {
   "cell_type": "markdown",
   "metadata": {},
   "source": [
    "\n",
    "## input_fn的基本形式\n",
    "``` python\n",
    "def my_input_fn():\n",
    "\n",
    "    # Preprocess your data here...\n",
    "\n",
    "    # ...then return 1) a mapping of feature columns to Tensors with\n",
    "    # the corresponding feature data, and 2) a Tensor containing labels\n",
    "    return feature_cols, labels\n",
    "```"
   ]
  },
  {
   "cell_type": "markdown",
   "metadata": {},
   "source": [
    "回传值一定是feature_cols和labels。\n",
    "\n",
    "**feature_cols**: A dict containing key/value pairs that map feature column names to Tensors (or SparseTensors) containing the corresponding feature data.\n",
    "\n",
    "**labels**:A Tensor containing your label (target) values: the values your model aims to predict.\n",
    "\n",
    "feature colums的官方解释：\n",
    "\n",
    "A **FeatureColumn** represents a single feature in your data. A **FeatureColumn** may represent a quantity like 'height', or it may represent a category like 'eye_color' where the value is drawn from a set of discrete possibilities like {'blue', 'brown', 'green'}.\n",
    "\n",
    "In the case of both continuous features like 'height' and categorical features like 'eye_color', a single value in the data might get transformed into a sequence of numbers before it is input into the model. The FeatureColumn abstraction lets you manipulate the feature as a single semantic unit in spite of this fact. You can specify transformations and select features to include without dealing with specific indices in the tensors you feed into the model.\n",
    "\n",
    "自己的理解，由于有的时候要对某一个特定的feature做preprocessing，在pandas里面可以直接做到拿column的动作，应该tf也是支持这一属性的，于是称为feature column。\n",
    "\n",
    "## numpy pandas资料处理\n",
    "\n",
    "如果资料室pandas或者numpy，可以利用一下方法产生input_fn:\n",
    "```python\n",
    "import numpy as np\n",
    "\n",
    "my_input_fn = tf.estimator.inputs.numpy_input_fn(\n",
    "    x={\"x\": np.array(x_data)},\n",
    "    y=np.array(y_data),\n",
    "    ...)\n",
    "\n",
    "import pandas as pd\n",
    "\n",
    "my_input_fn = tf.extimator.inputs.pandas_input_fn(\n",
    "    x=pd.DataFrame({\"x\": x_data}),\n",
    "    y=pd.Series(y_data),\n",
    "    ...)\n",
    "```\n",
    "\n",
    "## 将input_fn传入model\n",
    "\n",
    "直接将function object传入input_fn中。\n",
    "```python\n",
    "classifier.train(input_fn=my_input_fn, steps=2000)\n",
    "```\n",
    "因为是function object，意味着我们无法限定这个function的输入参数，建议使用lambda来传入参数，这样对于train evaluate的input_fn并不需要重新命名。\n",
    "```python\n",
    "classifier.train(input_fn=lambda: my_input_fn(training_set), steps=2000)\n",
    "classifier.evaluate(input_fn=lambda: my_input_fn(test_set), steps=2000)\n",
    "```\n",
    "如果需要更多的参数来控制function可以采用以下方法从numpy或pandas获取data set。\n",
    "\n",
    "```python\n",
    "import pandas as pd\n",
    "\n",
    "def get_input_fn_from_pandas(data_set, num_epochs=None, shuffle=True):\n",
    "  return tf.estimator.inputs.pandas_input_fn(\n",
    "      x=pdDataFrame(...),\n",
    "      y=pd.Series(...),\n",
    "      num_epochs=num_epochs,\n",
    "      shuffle=shuffle)\n",
    "      \n",
    "import numpy as np\n",
    "\n",
    "def get_input_fn_from_numpy(data_set, num_epochs=None, shuffle=True):\n",
    "  return tf.estimator.inputs.numpy_input_fn(\n",
    "      x={...},\n",
    "      y=np.array(...),\n",
    "      num_epochs=num_epochs,\n",
    "      shuffle=shuffle)\n",
    "```\n",
    "\n",
    "[tf.estimator.inputs.pandas_input_fn api](https://www.tensorflow.org/api_docs/python/tf/estimator/inputs/pandas_input_fn)\n",
    "\n",
    "[ tf.estimator.inputs.numpy_input_fn api](https://www.tensorflow.org/api_docs/python/tf/estimator/inputs/numpy_input_fn)"
   ]
  },
  {
   "cell_type": "markdown",
   "metadata": {},
   "source": [
    "# Boston House Values DNN\n",
    "\n",
    "实作input_fn在DNN上。\n",
    "\n",
    "[itertools 介绍](https://docs.python.org/3/library/itertools.html)"
   ]
  },
  {
   "cell_type": "code",
   "execution_count": 2,
   "metadata": {
    "collapsed": false
   },
   "outputs": [],
   "source": [
    "from __future__ import absolute_import\n",
    "from __future__ import division\n",
    "from __future__ import print_function\n",
    "\n",
    "import itertools\n",
    "\n",
    "import pandas as pd\n",
    "\n",
    "tf.logging.set_verbosity(tf.logging.INFO)"
   ]
  },
  {
   "cell_type": "markdown",
   "metadata": {},
   "source": [
    "定义columns，并利用pandas从csv内读取资料。\n",
    "\n",
    "skipinitialspace : boolean, default False\n",
    "Skip spaces after delimiter.\n",
    "\n",
    "在delimiter后为什么会有spaces？自己测试True or False好像没有太大的区别。"
   ]
  },
  {
   "cell_type": "code",
   "execution_count": 3,
   "metadata": {
    "collapsed": false,
    "scrolled": true
   },
   "outputs": [],
   "source": [
    "COLUMNS = [\"crim\", \"zn\", \"indus\", \"nox\", \"rm\", \"age\", \"dis\", \"tax\", \"ptratio\", \"medv\"]\n",
    "FEATURES = [\"crim\", \"zn\", \"indus\", \"nox\", \"rm\", \"age\", \"dis\", \"tax\", \"ptratio\"]\n",
    "LABEL = \"medv\"\n",
    "\n",
    "training_set = pd.read_csv(\"./data/boston/boston_train.csv\",\n",
    "                           skipinitialspace=True,\n",
    "                           skiprows=1,\n",
    "                           names=COLUMNS)\n",
    "test_set = pd.read_csv(\"./data/boston/boston_test.csv\",\n",
    "                      skipinitialspace=True,\n",
    "                      skiprows=1,\n",
    "                      names=COLUMNS)\n",
    "prediction_set = pd.read_csv(\"./data/boston/boston_predict.csv\",\n",
    "                            skipinitialspace=True,\n",
    "                            skiprows=1,\n",
    "                            names=COLUMNS)"
   ]
  },
  {
   "cell_type": "markdown",
   "metadata": {},
   "source": [
    "### 建构FeatureColumn\n",
    "\n",
    "需要产生一个NumericColum的list\n",
    "\n",
    "建構get_input_fn，让他return一个input function object，这样可以输入一些参数。\n",
    "\n",
    "**num_epochs**：在training的时候设定为None，让train函数的steps控制次数。而在evaluate的时候设定为1，这样的话input_fn只跑一次。"
   ]
  },
  {
   "cell_type": "code",
   "execution_count": 4,
   "metadata": {
    "collapsed": false
   },
   "outputs": [
    {
     "name": "stdout",
     "output_type": "stream",
     "text": [
      "INFO:tensorflow:Using default config.\n",
      "INFO:tensorflow:Using config: {'_log_step_count_steps': 100, '_save_checkpoints_steps': None, '_tf_random_seed': 1, '_model_dir': '/tmp/boston_model', '_session_config': None, '_save_summary_steps': 100, '_keep_checkpoint_max': 5, '_save_checkpoints_secs': 600, '_keep_checkpoint_every_n_hours': 10000}\n"
     ]
    }
   ],
   "source": [
    "feature_cols = [tf.feature_column.numeric_column(k) for k in FEATURES]\n",
    "regressor = tf.estimator.DNNRegressor(feature_columns=feature_cols,\n",
    "                                     hidden_units=[10,10],\n",
    "                                     model_dir=\"/tmp/boston_model\")\n",
    "\n",
    "# Building the input_fn\n",
    "\n",
    "def get_input_fn(data_set, num_epochs=None, shuffle=True):\n",
    "    return tf.estimator.inputs.pandas_input_fn(\n",
    "        x=pd.DataFrame({k: data_set[k].values for k in FEATURES}),\n",
    "        y=pd.Series(data_set[LABEL].values),\n",
    "        num_epochs=num_epochs,\n",
    "        shuffle=shuffle)"
   ]
  },
  {
   "cell_type": "markdown",
   "metadata": {},
   "source": [
    "设定5000次steps，并传入training_set。"
   ]
  },
  {
   "cell_type": "code",
   "execution_count": 5,
   "metadata": {
    "collapsed": false,
    "scrolled": true
   },
   "outputs": [
    {
     "name": "stdout",
     "output_type": "stream",
     "text": [
      "INFO:tensorflow:Create CheckpointSaverHook.\n",
      "INFO:tensorflow:Saving checkpoints for 1 into /tmp/boston_model/model.ckpt.\n",
      "INFO:tensorflow:step = 1, loss = 49120.5\n",
      "INFO:tensorflow:global_step/sec: 289.785\n",
      "INFO:tensorflow:step = 101, loss = 15093.1 (0.348 sec)\n",
      "INFO:tensorflow:global_step/sec: 309.621\n",
      "INFO:tensorflow:step = 201, loss = 9873.31 (0.322 sec)\n",
      "INFO:tensorflow:global_step/sec: 244.16\n",
      "INFO:tensorflow:step = 301, loss = 10366.8 (0.409 sec)\n",
      "INFO:tensorflow:global_step/sec: 270.095\n",
      "INFO:tensorflow:step = 401, loss = 7410.75 (0.372 sec)\n",
      "INFO:tensorflow:global_step/sec: 247.095\n",
      "INFO:tensorflow:step = 501, loss = 9121.24 (0.405 sec)\n",
      "INFO:tensorflow:global_step/sec: 301.696\n",
      "INFO:tensorflow:step = 601, loss = 8376.78 (0.330 sec)\n",
      "INFO:tensorflow:global_step/sec: 307.18\n",
      "INFO:tensorflow:step = 701, loss = 6631.06 (0.328 sec)\n",
      "INFO:tensorflow:global_step/sec: 292.642\n",
      "INFO:tensorflow:step = 801, loss = 8016.91 (0.339 sec)\n",
      "INFO:tensorflow:global_step/sec: 311.454\n",
      "INFO:tensorflow:step = 901, loss = 10007.7 (0.323 sec)\n",
      "INFO:tensorflow:global_step/sec: 318.984\n",
      "INFO:tensorflow:step = 1001, loss = 8090.66 (0.314 sec)\n",
      "INFO:tensorflow:global_step/sec: 277.877\n",
      "INFO:tensorflow:step = 1101, loss = 9698.56 (0.360 sec)\n",
      "INFO:tensorflow:global_step/sec: 219.688\n",
      "INFO:tensorflow:step = 1201, loss = 7950.63 (0.454 sec)\n",
      "INFO:tensorflow:global_step/sec: 252.286\n",
      "INFO:tensorflow:step = 1301, loss = 5605.92 (0.397 sec)\n",
      "INFO:tensorflow:global_step/sec: 245.865\n",
      "INFO:tensorflow:step = 1401, loss = 10657.2 (0.407 sec)\n",
      "INFO:tensorflow:global_step/sec: 278.221\n",
      "INFO:tensorflow:step = 1501, loss = 6691.27 (0.362 sec)\n",
      "INFO:tensorflow:global_step/sec: 246.014\n",
      "INFO:tensorflow:step = 1601, loss = 9970.57 (0.403 sec)\n",
      "INFO:tensorflow:global_step/sec: 255.2\n",
      "INFO:tensorflow:step = 1701, loss = 3972.3 (0.396 sec)\n",
      "INFO:tensorflow:global_step/sec: 284.621\n",
      "INFO:tensorflow:step = 1801, loss = 6661.35 (0.346 sec)\n",
      "INFO:tensorflow:global_step/sec: 281.435\n",
      "INFO:tensorflow:step = 1901, loss = 4509.27 (0.358 sec)\n",
      "INFO:tensorflow:global_step/sec: 281.685\n",
      "INFO:tensorflow:step = 2001, loss = 5841.36 (0.354 sec)\n",
      "INFO:tensorflow:global_step/sec: 318.738\n",
      "INFO:tensorflow:step = 2101, loss = 4860.68 (0.313 sec)\n",
      "INFO:tensorflow:global_step/sec: 296.728\n",
      "INFO:tensorflow:step = 2201, loss = 2886.81 (0.337 sec)\n",
      "INFO:tensorflow:global_step/sec: 235.014\n",
      "INFO:tensorflow:step = 2301, loss = 4124.74 (0.427 sec)\n",
      "INFO:tensorflow:global_step/sec: 305.579\n",
      "INFO:tensorflow:step = 2401, loss = 4187.65 (0.330 sec)\n",
      "INFO:tensorflow:global_step/sec: 257.807\n",
      "INFO:tensorflow:step = 2501, loss = 5622.61 (0.383 sec)\n",
      "INFO:tensorflow:global_step/sec: 340.695\n",
      "INFO:tensorflow:step = 2601, loss = 5975.27 (0.293 sec)\n",
      "INFO:tensorflow:global_step/sec: 262.835\n",
      "INFO:tensorflow:step = 2701, loss = 4162.69 (0.385 sec)\n",
      "INFO:tensorflow:global_step/sec: 249.867\n",
      "INFO:tensorflow:step = 2801, loss = 4281.15 (0.397 sec)\n",
      "INFO:tensorflow:global_step/sec: 288.335\n",
      "INFO:tensorflow:step = 2901, loss = 5542.89 (0.348 sec)\n",
      "INFO:tensorflow:global_step/sec: 269.622\n",
      "INFO:tensorflow:step = 3001, loss = 2961.68 (0.371 sec)\n",
      "INFO:tensorflow:global_step/sec: 290.573\n",
      "INFO:tensorflow:step = 3101, loss = 4239.85 (0.343 sec)\n",
      "INFO:tensorflow:global_step/sec: 278.015\n",
      "INFO:tensorflow:step = 3201, loss = 4320.95 (0.360 sec)\n",
      "INFO:tensorflow:global_step/sec: 306.281\n",
      "INFO:tensorflow:step = 3301, loss = 2189.5 (0.327 sec)\n",
      "INFO:tensorflow:global_step/sec: 280.885\n",
      "INFO:tensorflow:step = 3401, loss = 3278.92 (0.359 sec)\n",
      "INFO:tensorflow:global_step/sec: 274.292\n",
      "INFO:tensorflow:step = 3501, loss = 5085.23 (0.360 sec)\n",
      "INFO:tensorflow:global_step/sec: 256.77\n",
      "INFO:tensorflow:step = 3601, loss = 4519.16 (0.392 sec)\n",
      "INFO:tensorflow:global_step/sec: 262.087\n",
      "INFO:tensorflow:step = 3701, loss = 2067.53 (0.384 sec)\n",
      "INFO:tensorflow:global_step/sec: 278.517\n",
      "INFO:tensorflow:step = 3801, loss = 4535.28 (0.356 sec)\n",
      "INFO:tensorflow:global_step/sec: 311.288\n",
      "INFO:tensorflow:step = 3901, loss = 2161.33 (0.321 sec)\n",
      "INFO:tensorflow:global_step/sec: 275.396\n",
      "INFO:tensorflow:step = 4001, loss = 3023.88 (0.361 sec)\n",
      "INFO:tensorflow:global_step/sec: 261.638\n",
      "INFO:tensorflow:step = 4101, loss = 4818.58 (0.383 sec)\n",
      "INFO:tensorflow:global_step/sec: 316.181\n",
      "INFO:tensorflow:step = 4201, loss = 1824.74 (0.318 sec)\n",
      "INFO:tensorflow:global_step/sec: 290.542\n",
      "INFO:tensorflow:step = 4301, loss = 2051.64 (0.342 sec)\n",
      "INFO:tensorflow:global_step/sec: 219.811\n",
      "INFO:tensorflow:step = 4401, loss = 2928.79 (0.456 sec)\n",
      "INFO:tensorflow:global_step/sec: 204.045\n",
      "INFO:tensorflow:step = 4501, loss = 5695.05 (0.492 sec)\n",
      "INFO:tensorflow:global_step/sec: 231.728\n",
      "INFO:tensorflow:step = 4601, loss = 4868.16 (0.431 sec)\n",
      "INFO:tensorflow:global_step/sec: 197.341\n",
      "INFO:tensorflow:step = 4701, loss = 6398.05 (0.509 sec)\n",
      "INFO:tensorflow:global_step/sec: 291.465\n",
      "INFO:tensorflow:step = 4801, loss = 3076.41 (0.339 sec)\n",
      "INFO:tensorflow:global_step/sec: 241.379\n",
      "INFO:tensorflow:step = 4901, loss = 6098.79 (0.419 sec)\n",
      "INFO:tensorflow:Saving checkpoints for 5000 into /tmp/boston_model/model.ckpt.\n",
      "INFO:tensorflow:Loss for final step: 5492.03.\n"
     ]
    },
    {
     "data": {
      "text/plain": [
       "<tensorflow.python.estimator.canned.dnn.DNNRegressor at 0x10fcb70b8>"
      ]
     },
     "execution_count": 5,
     "metadata": {},
     "output_type": "execute_result"
    }
   ],
   "source": [
    "regressor.train(input_fn=get_input_fn(training_set), steps=5000)"
   ]
  },
  {
   "cell_type": "markdown",
   "metadata": {},
   "source": [
    "### 评估模型\n",
    "利用test_set和model.evaluate来评估模型的好坏程度。"
   ]
  },
  {
   "cell_type": "code",
   "execution_count": 6,
   "metadata": {
    "collapsed": false
   },
   "outputs": [
    {
     "name": "stdout",
     "output_type": "stream",
     "text": [
      "INFO:tensorflow:Starting evaluation at 2017-08-24-07:19:54\n",
      "INFO:tensorflow:Restoring parameters from /tmp/boston_model/model.ckpt-5000\n",
      "INFO:tensorflow:Finished evaluation at 2017-08-24-07:19:54\n",
      "INFO:tensorflow:Saving dict for global step 5000: average_loss = 12.192, global_step = 5000, loss = 1219.2\n",
      "Loss: 1219.203491\n"
     ]
    }
   ],
   "source": [
    "ev = regressor.evaluate(input_fn=get_input_fn(test_set, num_epochs=1, shuffle=False))\n",
    "loss_score = ev[\"loss\"]\n",
    "print(\"Loss: {0:f}\".format(loss_score))"
   ]
  },
  {
   "cell_type": "markdown",
   "metadata": {},
   "source": [
    "### 模型预测\n",
    "\n",
    "利用model.predict来预测prediction_set。"
   ]
  },
  {
   "cell_type": "code",
   "execution_count": 7,
   "metadata": {
    "collapsed": false
   },
   "outputs": [
    {
     "name": "stdout",
     "output_type": "stream",
     "text": [
      "INFO:tensorflow:Restoring parameters from /tmp/boston_model/model.ckpt-5000\n",
      "Predictions: [array([ 34.39196396], dtype=float32), array([ 18.23705101], dtype=float32), array([ 22.64715195], dtype=float32), array([ 36.05002975], dtype=float32), array([ 14.84117413], dtype=float32), array([ 18.36227608], dtype=float32)]\n"
     ]
    }
   ],
   "source": [
    "y = regressor.predict(\n",
    "    input_fn=get_input_fn(prediction_set, num_epochs=1, shuffle=False))\n",
    "# .predict() returns an iterator of dicts; convert to a list and print\n",
    "# predictions\n",
    "predictions = list(p[\"predictions\"] for p in itertools.islice(y, 6))\n",
    "print(\"Predictions: {}\".format(str(predictions)))"
   ]
  }
 ],
 "metadata": {
  "kernelspec": {
   "display_name": "Python 3",
   "language": "python",
   "name": "python3"
  },
  "language_info": {
   "codemirror_mode": {
    "name": "ipython",
    "version": 3
   },
   "file_extension": ".py",
   "mimetype": "text/x-python",
   "name": "python",
   "nbconvert_exporter": "python",
   "pygments_lexer": "ipython3",
   "version": "3.5.2"
  }
 },
 "nbformat": 4,
 "nbformat_minor": 1
}
