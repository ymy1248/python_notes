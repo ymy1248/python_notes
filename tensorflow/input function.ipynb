{
 "cells": [
  {
   "cell_type": "markdown",
   "metadata": {},
   "source": [
    "# Building Input Functions with tf.estimator 读书笔记\n",
    "\n",
    "[tf官网原文](https://www.tensorflow.org/get_started/input_fn)\n",
    "\n",
    "input_fn 的目的是把feature传入Extimator中的train, evaluate和predict中。可以在input_fn中做feature engineering 或者 pre-processing"
   ]
  },
  {
   "cell_type": "code",
   "execution_count": 1,
   "metadata": {
    "collapsed": true
   },
   "outputs": [],
   "source": [
    "import tensorflow as tf"
   ]
  },
  {
   "cell_type": "markdown",
   "metadata": {},
   "source": [
    "\n",
    "## input_fn的基本形式\n",
    "``` python\n",
    "def my_input_fn():\n",
    "\n",
    "    # Preprocess your data here...\n",
    "\n",
    "    # ...then return 1) a mapping of feature columns to Tensors with\n",
    "    # the corresponding feature data, and 2) a Tensor containing labels\n",
    "    return feature_cols, labels\n",
    "```"
   ]
  },
  {
   "cell_type": "markdown",
   "metadata": {},
   "source": [
    "回传值一定是feature_cols和labels。\n",
    "\n",
    "**feature_cols**: A dict containing key/value pairs that map feature column names to Tensors (or SparseTensors) containing the corresponding feature data.\n",
    "\n",
    "**labels**:A Tensor containing your label (target) values: the values your model aims to predict.\n",
    "\n",
    "feature colums的官方解释：\n",
    "\n",
    "A **FeatureColumn** represents a single feature in your data. A **FeatureColumn** may represent a quantity like 'height', or it may represent a category like 'eye_color' where the value is drawn from a set of discrete possibilities like {'blue', 'brown', 'green'}.\n",
    "\n",
    "In the case of both continuous features like 'height' and categorical features like 'eye_color', a single value in the data might get transformed into a sequence of numbers before it is input into the model. The FeatureColumn abstraction lets you manipulate the feature as a single semantic unit in spite of this fact. You can specify transformations and select features to include without dealing with specific indices in the tensors you feed into the model.\n",
    "\n",
    "自己的理解，由于有的时候要对某一个特定的feature做preprocessing，在pandas里面可以直接做到拿column的动作，应该tf也是支持这一属性的，于是称为feature column。\n",
    "\n",
    "## numpy pandas资料处理\n",
    "\n",
    "如果资料室pandas或者numpy，可以利用一下方法产生input_fn:\n",
    "```python\n",
    "import numpy as np\n",
    "\n",
    "my_input_fn = tf.estimator.inputs.numpy_input_fn(\n",
    "    x={\"x\": np.array(x_data)},\n",
    "    y=np.array(y_data),\n",
    "    ...)\n",
    "\n",
    "import pandas as pd\n",
    "\n",
    "my_input_fn = tf.extimator.inputs.pandas_input_fn(\n",
    "    x=pd.DataFrame({\"x\": x_data}),\n",
    "    y=pd.Series(y_data),\n",
    "    ...)\n",
    "```\n",
    "\n",
    "## 将input_fn传入model\n",
    "\n",
    "直接将function object传入input_fn中。\n",
    "```python\n",
    "classifier.train(input_fn=my_input_fn, steps=2000)\n",
    "```\n",
    "因为是function object，意味着我们无法限定这个function的输入参数，建议使用lambda来传入参数，这样对于train evaluate的input_fn并不需要重新命名。\n",
    "```python\n",
    "classifier.train(input_fn=lambda: my_input_fn(training_set), steps=2000)\n",
    "classifier.evaluate(input_fn=lambda: my_input_fn(test_set), steps=2000)\n",
    "```\n",
    "如果需要更多的参数来控制function可以采用以下方法从numpy或pandas获取data set。\n",
    "\n",
    "```python\n",
    "import pandas as pd\n",
    "\n",
    "def get_input_fn_from_pandas(data_set, num_epochs=None, shuffle=True):\n",
    "  return tf.estimator.inputs.pandas_input_fn(\n",
    "      x=pdDataFrame(...),\n",
    "      y=pd.Series(...),\n",
    "      num_epochs=num_epochs,\n",
    "      shuffle=shuffle)\n",
    "      \n",
    "import numpy as np\n",
    "\n",
    "def get_input_fn_from_numpy(data_set, num_epochs=None, shuffle=True):\n",
    "  return tf.estimator.inputs.numpy_input_fn(\n",
    "      x={...},\n",
    "      y=np.array(...),\n",
    "      num_epochs=num_epochs,\n",
    "      shuffle=shuffle)\n",
    "```\n",
    "\n",
    "[tf.estimator.inputs.pandas_input_fn api](https://www.tensorflow.org/api_docs/python/tf/estimator/inputs/pandas_input_fn)\n",
    "\n",
    "[ tf.estimator.inputs.numpy_input_fn api](https://www.tensorflow.org/api_docs/python/tf/estimator/inputs/numpy_input_fn)"
   ]
  },
  {
   "cell_type": "markdown",
   "metadata": {},
   "source": [
    "# Boston House Values DNN\n",
    "\n",
    "实作input_fn在DNN上。\n",
    "\n",
    "[itertools 介绍](https://docs.python.org/3/library/itertools.html)"
   ]
  },
  {
   "cell_type": "code",
   "execution_count": 2,
   "metadata": {
    "collapsed": false
   },
   "outputs": [],
   "source": [
    "from __future__ import absolute_import\n",
    "from __future__ import division\n",
    "from __future__ import print_function\n",
    "\n",
    "import itertools\n",
    "\n",
    "import pandas as pd\n",
    "\n",
    "tf.logging.set_verbosity(tf.logging.INFO)"
   ]
  },
  {
   "cell_type": "markdown",
   "metadata": {},
   "source": [
    "定义columns，并利用pandas从csv内读取资料。\n",
    "\n",
    "skipinitialspace : boolean, default False\n",
    "Skip spaces after delimiter.\n",
    "\n",
    "在delimiter后为什么会有spaces？自己测试True or False好像没有太大的区别。"
   ]
  },
  {
   "cell_type": "code",
   "execution_count": 3,
   "metadata": {
    "collapsed": false,
    "scrolled": true
   },
   "outputs": [],
   "source": [
    "COLUMNS = [\"crim\", \"zn\", \"indus\", \"nox\", \"rm\", \"age\", \"dis\", \"tax\", \"ptratio\", \"medv\"]\n",
    "FEATURES = [\"crim\", \"zn\", \"indus\", \"nox\", \"rm\", \"age\", \"dis\", \"tax\", \"ptratio\"]\n",
    "LABEL = \"medv\"\n",
    "\n",
    "training_set = pd.read_csv(\"./boston/boston_train.csv\",\n",
    "                           skipinitialspace=True,\n",
    "                           skiprows=1,\n",
    "                           names=COLUMNS)\n",
    "test_set = pd.read_csv(\"./boston/boston_test.csv\",\n",
    "                      skipinitialspace=True,\n",
    "                      skiprows=1,\n",
    "                      names=COLUMNS)\n",
    "prediction_set = pd.read_csv(\"./boston/boston_predict.csv\",\n",
    "                            skipinitialspace=True,\n",
    "                            skiprows=1,\n",
    "                            names=COLUMNS)"
   ]
  },
  {
   "cell_type": "markdown",
   "metadata": {},
   "source": [
    "### 建构FeatureColumn\n",
    "\n",
    "需要产生一个NumericColum的list"
   ]
  },
  {
   "cell_type": "code",
   "execution_count": 5,
   "metadata": {
    "collapsed": false
   },
   "outputs": [
    {
     "name": "stdout",
     "output_type": "stream",
     "text": [
      "INFO:tensorflow:Using default config.\n",
      "INFO:tensorflow:Using config: {'_keep_checkpoint_every_n_hours': 10000, '_tf_random_seed': 1, '_save_checkpoints_secs': 600, '_save_checkpoints_steps': None, '_model_dir': '/model/boston_model', '_save_summary_steps': 100, '_keep_checkpoint_max': 5, '_log_step_count_steps': 100, '_session_config': None}\n"
     ]
    }
   ],
   "source": [
    "feature_cols = [tf.feature_column.numeric_column(k) for k in FEATURES]\n",
    "regressor = tf.estimator.DNNRegressor(feature_columns=feature_cols,\n",
    "                                     hidden_units=[10,10],\n",
    "                                     model_dir=\"/model/boston_model\")\n",
    "\n",
    "# Building the input_fn\n",
    "\n",
    "def get_input_fn(data_set, num_epochs=None, shuffle=True):\n",
    "    return tf.estimator.inputs.pandas_input_fn(\n",
    "        x=pd.DataFrame({k: data_set[k].values for k in FEATURES}),\n",
    "        y=pd.Series(data_set[LABEL].values),\n",
    "        num_epochs=num_epochs,\n",
    "        shuffle=shuffle)"
   ]
  }
 ],
 "metadata": {
  "kernelspec": {
   "display_name": "Python 3",
   "language": "python",
   "name": "python3"
  },
  "language_info": {
   "codemirror_mode": {
    "name": "ipython",
    "version": 3
   },
   "file_extension": ".py",
   "mimetype": "text/x-python",
   "name": "python",
   "nbconvert_exporter": "python",
   "pygments_lexer": "ipython3",
   "version": "3.5.2"
  }
 },
 "nbformat": 4,
 "nbformat_minor": 1
}
