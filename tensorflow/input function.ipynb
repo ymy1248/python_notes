{
 "cells": [
  {
   "cell_type": "markdown",
   "metadata": {},
   "source": [
    "# Building Input Functions with tf.estimator 读书笔记\n",
    "\n",
    "[tf官网原文](https://www.tensorflow.org/get_started/input_fn)\n",
    "\n",
    "input_fn 的目的是把feature传入Extimator中的train, evaluate和predict中。可以在input_fn中做feature engineering 或者 pre-processing"
   ]
  },
  {
   "cell_type": "code",
   "execution_count": 1,
   "metadata": {
    "collapsed": true
   },
   "outputs": [],
   "source": [
    "import tensorflow as tf"
   ]
  },
  {
   "cell_type": "markdown",
   "metadata": {},
   "source": [
    "\n",
    "## input_fn的基本形式\n",
    "``` python\n",
    "def my_input_fn():\n",
    "\n",
    "    # Preprocess your data here...\n",
    "\n",
    "    # ...then return 1) a mapping of feature columns to Tensors with\n",
    "    # the corresponding feature data, and 2) a Tensor containing labels\n",
    "    return feature_cols, labels\n",
    "```"
   ]
  },
  {
   "cell_type": "markdown",
   "metadata": {},
   "source": [
    "回传值一定是feature_cols和labels。\n",
    "\n",
    "**feature_cols**: A dict containing key/value pairs that map feature column names to Tensors (or SparseTensors) containing the corresponding feature data.\n",
    "\n",
    "**labels**:A Tensor containing your label (target) values: the values your model aims to predict.\n",
    "\n",
    "feature colums的官方解释：\n",
    "\n",
    "A **FeatureColumn** represents a single feature in your data. A **FeatureColumn** may represent a quantity like 'height', or it may represent a category like 'eye_color' where the value is drawn from a set of discrete possibilities like {'blue', 'brown', 'green'}.\n",
    "\n",
    "In the case of both continuous features like 'height' and categorical features like 'eye_color', a single value in the data might get transformed into a sequence of numbers before it is input into the model. The FeatureColumn abstraction lets you manipulate the feature as a single semantic unit in spite of this fact. You can specify transformations and select features to include without dealing with specific indices in the tensors you feed into the model.\n",
    "\n",
    "自己的理解，由于有的时候要对某一个特定的feature做preprocessing，在pandas里面可以直接做到拿column的动作，应该tf也是支持这一属性的，于是称为feature column。\n",
    "\n",
    "## numpy pandas资料处理\n",
    "\n",
    "如果资料室pandas或者numpy，可以利用一下方法产生input_fn:\n",
    "```python\n",
    "import numpy as np\n",
    "\n",
    "my_input_fn = tf.estimator.inputs.numpy_input_fn(\n",
    "    x={\"x\": np.array(x_data)},\n",
    "    y=np.array(y_data),\n",
    "    ...)\n",
    "\n",
    "import pandas as pd\n",
    "\n",
    "my_input_fn = tf.extimator.inputs.pandas_input_fn(\n",
    "    x=pd.DataFrame({\"x\": x_data}),\n",
    "    y=pd.Series(y_data),\n",
    "    ...)\n",
    "```\n",
    "\n",
    "## 将input_fn传入model\n",
    "\n",
    "直接将function object传入input_fn中。\n",
    "```python\n",
    "classifier.train(input_fn=my_input_fn, steps=2000)\n",
    "```\n",
    "因为是function object，意味着我们无法限定这个function的输入参数，建议使用lambda来传入参数，这样对于train evaluate的input_fn并不需要重新命名。\n",
    "```python\n",
    "classifier.train(input_fn=lambda: my_input_fn(training_set), steps=2000)\n",
    "classifier.evaluate(input_fn=lambda: my_input_fn(test_set), steps=2000)\n",
    "```\n",
    "如果需要更多的参数来控制function可以采用以下方法从numpy或pandas获取data set。\n",
    "\n",
    "```python\n",
    "import pandas as pd\n",
    "\n",
    "def get_input_fn_from_pandas(data_set, num_epochs=None, shuffle=True):\n",
    "  return tf.estimator.inputs.pandas_input_fn(\n",
    "      x=pdDataFrame(...),\n",
    "      y=pd.Series(...),\n",
    "      num_epochs=num_epochs,\n",
    "      shuffle=shuffle)\n",
    "      \n",
    "import numpy as np\n",
    "\n",
    "def get_input_fn_from_numpy(data_set, num_epochs=None, shuffle=True):\n",
    "  return tf.estimator.inputs.numpy_input_fn(\n",
    "      x={...},\n",
    "      y=np.array(...),\n",
    "      num_epochs=num_epochs,\n",
    "      shuffle=shuffle)\n",
    "```\n",
    "\n",
    "[tf.estimator.inputs.pandas_input_fn api](https://www.tensorflow.org/api_docs/python/tf/estimator/inputs/pandas_input_fn)\n",
    "\n",
    "[ tf.estimator.inputs.numpy_input_fn api](https://www.tensorflow.org/api_docs/python/tf/estimator/inputs/numpy_input_fn)"
   ]
  },
  {
   "cell_type": "markdown",
   "metadata": {},
   "source": [
    "# Boston House Values DNN\n",
    "\n",
    "实作input_fn在DNN上。\n",
    "\n",
    "[itertools 介绍](https://docs.python.org/3/library/itertools.html)"
   ]
  },
  {
   "cell_type": "code",
   "execution_count": 2,
   "metadata": {
    "collapsed": false
   },
   "outputs": [],
   "source": [
    "from __future__ import absolute_import\n",
    "from __future__ import division\n",
    "from __future__ import print_function\n",
    "\n",
    "import itertools\n",
    "\n",
    "import pandas as pd\n",
    "\n",
    "tf.logging.set_verbosity(tf.logging.INFO)"
   ]
  },
  {
   "cell_type": "markdown",
   "metadata": {},
   "source": [
    "定义columns，并利用pandas从csv内读取资料。\n",
    "\n",
    "skipinitialspace : boolean, default False\n",
    "Skip spaces after delimiter.\n",
    "\n",
    "在delimiter后为什么会有spaces？自己测试True or False好像没有太大的区别。"
   ]
  },
  {
   "cell_type": "code",
   "execution_count": 3,
   "metadata": {
    "collapsed": false,
    "scrolled": true
   },
   "outputs": [],
   "source": [
    "COLUMNS = [\"crim\", \"zn\", \"indus\", \"nox\", \"rm\", \"age\", \"dis\", \"tax\", \"ptratio\", \"medv\"]\n",
    "FEATURES = [\"crim\", \"zn\", \"indus\", \"nox\", \"rm\", \"age\", \"dis\", \"tax\", \"ptratio\"]\n",
    "LABEL = \"medv\"\n",
    "\n",
    "training_set = pd.read_csv(\"./boston/boston_train.csv\",\n",
    "                           skipinitialspace=True,\n",
    "                           skiprows=1,\n",
    "                           names=COLUMNS)\n",
    "test_set = pd.read_csv(\"./boston/boston_test.csv\",\n",
    "                      skipinitialspace=True,\n",
    "                      skiprows=1,\n",
    "                      names=COLUMNS)\n",
    "prediction_set = pd.read_csv(\"./boston/boston_predict.csv\",\n",
    "                            skipinitialspace=True,\n",
    "                            skiprows=1,\n",
    "                            names=COLUMNS)"
   ]
  },
  {
   "cell_type": "markdown",
   "metadata": {},
   "source": [
    "### 建构FeatureColumn\n",
    "\n",
    "需要产生一个NumericColum的list\n",
    "\n",
    "建構get_input_fn，让他return一个input function object，这样可以输入一些参数。\n",
    "\n",
    "**num_epochs**：在training的时候设定为None，让train函数的steps控制次数。而在evaluate的时候设定为1，这样的话input_fn只跑一次。"
   ]
  },
  {
   "cell_type": "code",
   "execution_count": 8,
   "metadata": {
    "collapsed": false
   },
   "outputs": [
    {
     "name": "stdout",
     "output_type": "stream",
     "text": [
      "INFO:tensorflow:Using default config.\n",
      "INFO:tensorflow:Using config: {'_model_dir': './model/boston_model', '_session_config': None, '_keep_checkpoint_max': 5, '_keep_checkpoint_every_n_hours': 10000, '_tf_random_seed': 1, '_save_summary_steps': 100, '_log_step_count_steps': 100, '_save_checkpoints_steps': None, '_save_checkpoints_secs': 600}\n"
     ]
    }
   ],
   "source": [
    "feature_cols = [tf.feature_column.numeric_column(k) for k in FEATURES]\n",
    "regressor = tf.estimator.DNNRegressor(feature_columns=feature_cols,\n",
    "                                     hidden_units=[10,10],\n",
    "                                     model_dir=\"./model/boston_model\")\n",
    "\n",
    "# Building the input_fn\n",
    "\n",
    "def get_input_fn(data_set, num_epochs=None, shuffle=True):\n",
    "    return tf.estimator.inputs.pandas_input_fn(\n",
    "        x=pd.DataFrame({k: data_set[k].values for k in FEATURES}),\n",
    "        y=pd.Series(data_set[LABEL].values),\n",
    "        num_epochs=num_epochs,\n",
    "        shuffle=shuffle)"
   ]
  },
  {
   "cell_type": "markdown",
   "metadata": {},
   "source": [
    "设定5000次steps，并传入training_set。"
   ]
  },
  {
   "cell_type": "code",
   "execution_count": 9,
   "metadata": {
    "collapsed": false,
    "scrolled": true
   },
   "outputs": [
    {
     "name": "stdout",
     "output_type": "stream",
     "text": [
      "INFO:tensorflow:Create CheckpointSaverHook.\n",
      "INFO:tensorflow:Saving checkpoints for 1 into ./model/boston_model/model.ckpt.\n",
      "INFO:tensorflow:loss = 64316.5, step = 1\n",
      "INFO:tensorflow:global_step/sec: 271.077\n",
      "INFO:tensorflow:loss = 10938.7, step = 101 (0.373 sec)\n",
      "INFO:tensorflow:global_step/sec: 319.752\n",
      "INFO:tensorflow:loss = 9922.81, step = 201 (0.313 sec)\n",
      "INFO:tensorflow:global_step/sec: 294.247\n",
      "INFO:tensorflow:loss = 11458.7, step = 301 (0.336 sec)\n",
      "INFO:tensorflow:global_step/sec: 303.462\n",
      "INFO:tensorflow:loss = 5194.75, step = 401 (0.332 sec)\n",
      "INFO:tensorflow:global_step/sec: 214.842\n",
      "INFO:tensorflow:loss = 6338.51, step = 501 (0.465 sec)\n",
      "INFO:tensorflow:global_step/sec: 280.574\n",
      "INFO:tensorflow:loss = 11045.4, step = 601 (0.355 sec)\n",
      "INFO:tensorflow:global_step/sec: 245.094\n",
      "INFO:tensorflow:loss = 7759.94, step = 701 (0.408 sec)\n",
      "INFO:tensorflow:global_step/sec: 305.579\n",
      "INFO:tensorflow:loss = 6263.56, step = 801 (0.328 sec)\n",
      "INFO:tensorflow:global_step/sec: 266.529\n",
      "INFO:tensorflow:loss = 7780.42, step = 901 (0.375 sec)\n",
      "INFO:tensorflow:global_step/sec: 285.321\n",
      "INFO:tensorflow:loss = 6145.76, step = 1001 (0.351 sec)\n",
      "INFO:tensorflow:global_step/sec: 252.982\n",
      "INFO:tensorflow:loss = 5862.75, step = 1101 (0.398 sec)\n",
      "INFO:tensorflow:global_step/sec: 266.213\n",
      "INFO:tensorflow:loss = 7586.18, step = 1201 (0.373 sec)\n",
      "INFO:tensorflow:global_step/sec: 182.45\n",
      "INFO:tensorflow:loss = 4913.84, step = 1301 (0.553 sec)\n",
      "INFO:tensorflow:global_step/sec: 262.286\n",
      "INFO:tensorflow:loss = 5388.33, step = 1401 (0.379 sec)\n",
      "INFO:tensorflow:global_step/sec: 177.745\n",
      "INFO:tensorflow:loss = 3764.17, step = 1501 (0.563 sec)\n",
      "INFO:tensorflow:global_step/sec: 179.113\n",
      "INFO:tensorflow:loss = 4040.45, step = 1601 (0.556 sec)\n",
      "INFO:tensorflow:global_step/sec: 182.203\n",
      "INFO:tensorflow:loss = 4120.37, step = 1701 (0.549 sec)\n",
      "INFO:tensorflow:global_step/sec: 300.298\n",
      "INFO:tensorflow:loss = 4660.48, step = 1801 (0.333 sec)\n",
      "INFO:tensorflow:global_step/sec: 232.063\n",
      "INFO:tensorflow:loss = 6415.8, step = 1901 (0.429 sec)\n",
      "INFO:tensorflow:global_step/sec: 234.623\n",
      "INFO:tensorflow:loss = 5124.87, step = 2001 (0.428 sec)\n",
      "INFO:tensorflow:global_step/sec: 256.576\n",
      "INFO:tensorflow:loss = 2841.11, step = 2101 (0.388 sec)\n",
      "INFO:tensorflow:global_step/sec: 213.707\n",
      "INFO:tensorflow:loss = 8101.03, step = 2201 (0.471 sec)\n",
      "INFO:tensorflow:global_step/sec: 188.32\n",
      "INFO:tensorflow:loss = 5146.01, step = 2301 (0.527 sec)\n",
      "INFO:tensorflow:global_step/sec: 204.854\n",
      "INFO:tensorflow:loss = 2856.31, step = 2401 (0.488 sec)\n",
      "INFO:tensorflow:global_step/sec: 257.482\n",
      "INFO:tensorflow:loss = 3223.27, step = 2501 (0.391 sec)\n",
      "INFO:tensorflow:global_step/sec: 257.792\n",
      "INFO:tensorflow:loss = 3396.24, step = 2601 (0.388 sec)\n",
      "INFO:tensorflow:global_step/sec: 279.733\n",
      "INFO:tensorflow:loss = 3680.13, step = 2701 (0.358 sec)\n",
      "INFO:tensorflow:global_step/sec: 292.695\n",
      "INFO:tensorflow:loss = 4026.44, step = 2801 (0.341 sec)\n",
      "INFO:tensorflow:global_step/sec: 298.305\n",
      "INFO:tensorflow:loss = 3710.53, step = 2901 (0.334 sec)\n",
      "INFO:tensorflow:global_step/sec: 274.345\n",
      "INFO:tensorflow:loss = 2879.24, step = 3001 (0.364 sec)\n",
      "INFO:tensorflow:global_step/sec: 219.168\n",
      "INFO:tensorflow:loss = 2602.8, step = 3101 (0.460 sec)\n",
      "INFO:tensorflow:global_step/sec: 225.431\n",
      "INFO:tensorflow:loss = 4371.57, step = 3201 (0.443 sec)\n",
      "INFO:tensorflow:global_step/sec: 277.431\n",
      "INFO:tensorflow:loss = 4932.1, step = 3301 (0.360 sec)\n",
      "INFO:tensorflow:global_step/sec: 252.174\n",
      "INFO:tensorflow:loss = 2912.51, step = 3401 (0.402 sec)\n",
      "INFO:tensorflow:global_step/sec: 214.085\n",
      "INFO:tensorflow:loss = 3302.27, step = 3501 (0.460 sec)\n",
      "INFO:tensorflow:global_step/sec: 308.064\n",
      "INFO:tensorflow:loss = 4731.36, step = 3601 (0.329 sec)\n",
      "INFO:tensorflow:global_step/sec: 209.922\n",
      "INFO:tensorflow:loss = 1942.54, step = 3701 (0.474 sec)\n",
      "INFO:tensorflow:global_step/sec: 252.275\n",
      "INFO:tensorflow:loss = 3869.96, step = 3801 (0.395 sec)\n",
      "INFO:tensorflow:global_step/sec: 223.685\n",
      "INFO:tensorflow:loss = 2923.94, step = 3901 (0.448 sec)\n",
      "INFO:tensorflow:global_step/sec: 294.672\n",
      "INFO:tensorflow:loss = 5703.85, step = 4001 (0.339 sec)\n",
      "INFO:tensorflow:global_step/sec: 273.979\n",
      "INFO:tensorflow:loss = 2346.9, step = 4101 (0.363 sec)\n",
      "INFO:tensorflow:global_step/sec: 287.898\n",
      "INFO:tensorflow:loss = 3209.76, step = 4201 (0.350 sec)\n",
      "INFO:tensorflow:global_step/sec: 313.124\n",
      "INFO:tensorflow:loss = 5668.94, step = 4301 (0.319 sec)\n",
      "INFO:tensorflow:global_step/sec: 292.798\n",
      "INFO:tensorflow:loss = 3755.93, step = 4401 (0.341 sec)\n",
      "INFO:tensorflow:global_step/sec: 280.047\n",
      "INFO:tensorflow:loss = 3067.92, step = 4501 (0.358 sec)\n",
      "INFO:tensorflow:global_step/sec: 217.148\n",
      "INFO:tensorflow:loss = 4331.51, step = 4601 (0.460 sec)\n",
      "INFO:tensorflow:global_step/sec: 272.816\n",
      "INFO:tensorflow:loss = 2907.17, step = 4701 (0.365 sec)\n",
      "INFO:tensorflow:global_step/sec: 245.315\n",
      "INFO:tensorflow:loss = 3200.19, step = 4801 (0.408 sec)\n",
      "INFO:tensorflow:global_step/sec: 257.633\n",
      "INFO:tensorflow:loss = 3364.24, step = 4901 (0.388 sec)\n",
      "INFO:tensorflow:Saving checkpoints for 5000 into ./model/boston_model/model.ckpt.\n",
      "INFO:tensorflow:Loss for final step: 1958.31.\n"
     ]
    },
    {
     "data": {
      "text/plain": [
       "<tensorflow.python.estimator.canned.dnn.DNNRegressor at 0x111024400>"
      ]
     },
     "execution_count": 9,
     "metadata": {},
     "output_type": "execute_result"
    }
   ],
   "source": [
    "regressor.train(input_fn=get_input_fn(training_set), steps=5000)"
   ]
  },
  {
   "cell_type": "markdown",
   "metadata": {},
   "source": [
    "### 评估模型\n",
    "利用test_set和model.evaluate来评估模型的好坏程度。"
   ]
  },
  {
   "cell_type": "code",
   "execution_count": 12,
   "metadata": {
    "collapsed": false
   },
   "outputs": [
    {
     "name": "stdout",
     "output_type": "stream",
     "text": [
      "INFO:tensorflow:Starting evaluation at 2017-08-21-12:36:08\n",
      "INFO:tensorflow:Restoring parameters from ./model/boston_model/model.ckpt-5000\n",
      "INFO:tensorflow:Finished evaluation at 2017-08-21-12:36:08\n",
      "INFO:tensorflow:Saving dict for global step 5000: average_loss = 11.9585, global_step = 5000, loss = 1195.85\n",
      "Loss: 1195.853882\n"
     ]
    }
   ],
   "source": [
    "ev = regressor.evaluate(input_fn=get_input_fn(test_set, num_epochs=1, shuffle=False))\n",
    "loss_score = ev[\"loss\"]\n",
    "print(\"Loss: {0:f}\".format(loss_score))"
   ]
  },
  {
   "cell_type": "markdown",
   "metadata": {},
   "source": [
    "### 模型预测\n",
    "\n",
    "利用model.predict来预测prediction_set。"
   ]
  },
  {
   "cell_type": "code",
   "execution_count": 13,
   "metadata": {
    "collapsed": false
   },
   "outputs": [
    {
     "name": "stdout",
     "output_type": "stream",
     "text": [
      "INFO:tensorflow:Restoring parameters from ./model/boston_model/model.ckpt-5000\n",
      "Predictions: [array([ 32.69150925], dtype=float32), array([ 17.34743881], dtype=float32), array([ 22.3914566], dtype=float32), array([ 33.71511459], dtype=float32), array([ 14.71958637], dtype=float32), array([ 18.5411911], dtype=float32)]\n"
     ]
    }
   ],
   "source": [
    "y = regressor.predict(\n",
    "    input_fn=get_input_fn(prediction_set, num_epochs=1, shuffle=False))\n",
    "# .predict() returns an iterator of dicts; convert to a list and print\n",
    "# predictions\n",
    "predictions = list(p[\"predictions\"] for p in itertools.islice(y, 6))\n",
    "print(\"Predictions: {}\".format(str(predictions)))"
   ]
  }
 ],
 "metadata": {
  "kernelspec": {
   "display_name": "Python 3",
   "language": "python",
   "name": "python3"
  },
  "language_info": {
   "codemirror_mode": {
    "name": "ipython",
    "version": 3
   },
   "file_extension": ".py",
   "mimetype": "text/x-python",
   "name": "python",
   "nbconvert_exporter": "python",
   "pygments_lexer": "ipython3",
   "version": "3.5.2"
  }
 },
 "nbformat": 4,
 "nbformat_minor": 1
}
