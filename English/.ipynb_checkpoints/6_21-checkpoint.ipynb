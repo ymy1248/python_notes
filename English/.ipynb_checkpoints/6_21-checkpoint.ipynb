{
 "cells": [
  {
   "cell_type": "markdown",
   "metadata": {},
   "source": [
    "# English Learning(6/21)\n",
    "\n",
    "* incite 煽動，激起\n",
    "\n",
    "    *Their leader tried to **incite** the dissidents to overthrow the goverment*\n",
    "    \n",
    "    \n",
    "* I don't really care. 我不怎麼在乎。(I don't care that much)\n",
    "\n",
    "\n",
    "* Confucius Confucianism\n",
    "\n",
    "\n",
    "* \"to find motivation\" instead give yourself motivation\n",
    "\n",
    "\n",
    "* \"I found a new meaning for/of sucess\" (found another definition about sucess)\n",
    "\n",
    "\n",
    "* \"Can't achieve the goal\"\n",
    "\n",
    "\n",
    "* deflated adj. 泄氣的 v. 抽氣；使泄氣\n",
    "\n",
    "    *His rebuff thoroughly **deflated** me.*\n",
    "    \n",
    "\n",
    "* the be all and end all\n",
    "\n",
    "    *I do NOT believe that sex is **the be all and end all of relating** to women.*\n",
    "    \n",
    "    \n",
    "* \"invest time in someone\"\n",
    "\n",
    "\n",
    "* \"kill two birds with one stone\"\n",
    "\n",
    "\n",
    "* siblings   n. 兄弟姐妹\n",
    "\n",
    "    *She interviewed her five **siblings** and family friends to learn more about her mother.*\n",
    "    \n",
    "\n",
    "* \"to lose your temple\"\n",
    "\n",
    "\n",
    "* civil service (work for the government)\n",
    "\n",
    "\n",
    "* primary/secondary/tertiary industry\n",
    "\n",
    "\n",
    "* 爲反對而反對。 \"to opposite for the sake of opposing\"\n",
    "\n",
    "\n",
    "* 一概而論 \"sweeping generaliztion\""
   ]
  }
 ],
 "metadata": {
  "kernelspec": {
   "display_name": "Python 3",
   "language": "python",
   "name": "python3"
  },
  "language_info": {
   "codemirror_mode": {
    "name": "ipython",
    "version": 3
   },
   "file_extension": ".py",
   "mimetype": "text/x-python",
   "name": "python",
   "nbconvert_exporter": "python",
   "pygments_lexer": "ipython3",
   "version": "3.5.2"
  }
 },
 "nbformat": 4,
 "nbformat_minor": 2
}
