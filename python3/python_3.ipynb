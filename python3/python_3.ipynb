{
 "cells": [
  {
   "cell_type": "markdown",
   "metadata": {},
   "source": [
    "# python3 大法师之路(3): 函数式编程\n",
    "\n",
    "在python中function也是一个物件。（这真的挺猛的），既然是物件，代表着可以被assign。而且可以当作function的传入值。"
   ]
  },
  {
   "cell_type": "code",
   "execution_count": 2,
   "metadata": {
    "collapsed": false
   },
   "outputs": [
    {
     "name": "stdout",
     "output_type": "stream",
     "text": [
      "10\n",
      "20\n"
     ]
    }
   ],
   "source": [
    "def func1(a):\n",
    "    print(a)\n",
    "\n",
    "a = func1\n",
    "a(10)\n",
    "\n",
    "def func2(f):\n",
    "    f(20)\n",
    "    \n",
    "func2(func1)"
   ]
  },
  {
   "cell_type": "markdown",
   "metadata": {},
   "source": [
    "map/reduce 原来python里面就有实作map，reduce呀。我之前对python的理解简直是太浅了。\n",
    "\n",
    "map的概念就是对于每一个iterable的物件都做一次function上的事情。map(func, iterable) 回传一个iterator。"
   ]
  },
  {
   "cell_type": "code",
   "execution_count": 6,
   "metadata": {
    "collapsed": false
   },
   "outputs": [
    {
     "name": "stdout",
     "output_type": "stream",
     "text": [
      "[10, 9, 8, 7, 6, 5, 4, 3, 2, 1]\n",
      "['-10', '-9', '-8', '-7', '-6', '-5', '-4', '-3', '-2', '-1']\n"
     ]
    }
   ],
   "source": [
    "print(list(map(abs, [i for i in range(-10,0)])))\n",
    "print(list(map(str, [i for i in range(-10,0)])))"
   ]
  },
  {
   "cell_type": "markdown",
   "metadata": {},
   "source": [
    "对于 reduce而言，其实就是：\n",
    "\n",
    "reduce(f, [x1, x2, x3, x4]) = f(f(f(x1, x2), x3), x4)"
   ]
  },
  {
   "cell_type": "code",
   "execution_count": 2,
   "metadata": {
    "collapsed": false
   },
   "outputs": [
    {
     "data": {
      "text/plain": [
       "45"
      ]
     },
     "execution_count": 2,
     "metadata": {},
     "output_type": "execute_result"
    }
   ],
   "source": [
    "from functools import reduce\n",
    "\n",
    "def add (x,y):\n",
    "    return x+y\n",
    "reduce(add,[x for x in range(10)])"
   ]
  },
  {
   "cell_type": "markdown",
   "metadata": {},
   "source": [
    "以下是一个string to int的代码，比较让我觉得惊艳的是{}[]的用法。前面{}代表一个dict，后面的[]代表从中取value。"
   ]
  },
  {
   "cell_type": "code",
   "execution_count": 5,
   "metadata": {
    "collapsed": false
   },
   "outputs": [
    {
     "data": {
      "text/plain": [
       "13579"
      ]
     },
     "execution_count": 5,
     "metadata": {},
     "output_type": "execute_result"
    }
   ],
   "source": [
    "def char2num(s):\n",
    "    return {'0': 0, '1': 1, '2': 2, '3': 3, '4': 4, '5': 5, '6': 6, '7': 7, '8': 8, '9': 9}[s]\n",
    "\n",
    "def fun(x, y):\n",
    "    return x*10 + y\n",
    "\n",
    "reduce(fun, map(char2num, '13579'))"
   ]
  },
  {
   "cell_type": "markdown",
   "metadata": {},
   "source": [
    "python内建filter()，和map()的概念类似，filter(func, iterable) return iterator。只是，这个func是return True/False，如果是True就保留这个元素，如果是False就将这个元素剔除。"
   ]
  },
  {
   "cell_type": "code",
   "execution_count": 8,
   "metadata": {
    "collapsed": false
   },
   "outputs": [
    {
     "name": "stdout",
     "output_type": "stream",
     "text": [
      "[]\n",
      "[0, 1, 2, 3, 4, 5, 6, 7, 8, 9]\n"
     ]
    }
   ],
   "source": [
    "def func_false(x):\n",
    "    return False\n",
    "def func_true(x):\n",
    "    return True\n",
    "\n",
    "print(list(filter(func_false, [x for x in range(10)])))\n",
    "print(list(filter(func_true, [x for x in range(10)])))"
   ]
  },
  {
   "cell_type": "markdown",
   "metadata": {},
   "source": [
    "python中直接利用sorted()函数就可以对list进行排序。并且可以吃 key = func，代表要如何比较大小的方式。 reverse = False，代表是否需要反向。\n",
    "\n",
    "[官方文件](https://docs.python.org/3/library/functions.html#sorted)"
   ]
  },
  {
   "cell_type": "code",
   "execution_count": 8,
   "metadata": {
    "collapsed": false
   },
   "outputs": [
    {
     "name": "stdout",
     "output_type": "stream",
     "text": [
      "[-62, -25, -21, 1, 2, 3, 4, 51, 63]\n",
      "[1, 2, 3, 4, -21, -25, 51, -62, 63]\n",
      "[63, -62, 51, -25, -21, 4, 3, 2, 1]\n"
     ]
    }
   ],
   "source": [
    "a = [2,3,1,51,-25,63,-62,4,-21]\n",
    "print(sorted(a))\n",
    "print(sorted(a, key = abs))\n",
    "print(sorted(a, key = abs, reverse=True))"
   ]
  },
  {
   "cell_type": "markdown",
   "metadata": {},
   "source": [
    "刚刚看到python的star operator \\* 在这边稍微提一下。基本上会把一个iterable拆开放到函数的input里面。同样，也有\\*\\*这个，是为了能够让dict拆开，对对应的input输入参数。"
   ]
  },
  {
   "cell_type": "code",
   "execution_count": 12,
   "metadata": {
    "collapsed": false
   },
   "outputs": [
    {
     "name": "stdout",
     "output_type": "stream",
     "text": [
      "5\n",
      "5\n"
     ]
    }
   ],
   "source": [
    "def func(a,b):\n",
    "    print(a+b)\n",
    "    \n",
    "l = [2,3]\n",
    "func(*l)\n",
    "d = {\"a\":2, \"b\":3}\n",
    "func(**d)"
   ]
  },
  {
   "cell_type": "code",
   "execution_count": 17,
   "metadata": {
    "collapsed": false
   },
   "outputs": [
    {
     "data": {
      "text/plain": [
       "4"
      ]
     },
     "execution_count": 17,
     "metadata": {},
     "output_type": "execute_result"
    }
   ],
   "source": [
    "max([1,2,3,4])"
   ]
  },
  {
   "cell_type": "markdown",
   "metadata": {},
   "source": [
    "# 返回函数\n",
    "\n",
    "可以将函数直接返回，同样的，在 `sum()` 的时候才会重新运算。"
   ]
  },
  {
   "cell_type": "code",
   "execution_count": 4,
   "metadata": {
    "collapsed": false
   },
   "outputs": [],
   "source": [
    "def lazy_sum(*args):\n",
    "    def sum():\n",
    "        ax = 0\n",
    "        for n in args:\n",
    "            ax = ax + n\n",
    "        return ax\n",
    "    return sum"
   ]
  }
 ],
 "metadata": {
  "kernelspec": {
   "display_name": "Python 3",
   "language": "python",
   "name": "python3"
  },
  "language_info": {
   "codemirror_mode": {
    "name": "ipython",
    "version": 3
   },
   "file_extension": ".py",
   "mimetype": "text/x-python",
   "name": "python",
   "nbconvert_exporter": "python",
   "pygments_lexer": "ipython3",
   "version": "3.5.2"
  }
 },
 "nbformat": 4,
 "nbformat_minor": 1
}
