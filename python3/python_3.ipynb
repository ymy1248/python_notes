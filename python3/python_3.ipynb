{
 "cells": [
  {
   "cell_type": "markdown",
   "metadata": {},
   "source": [
    "# python3: 函数式编程\n",
    "\n",
    "在python中function也是一个物件。既然是物件，代表着可以被assign。而且可以当作function的传入值。"
   ]
  },
  {
   "cell_type": "code",
   "execution_count": 1,
   "metadata": {
    "collapsed": false
   },
   "outputs": [
    {
     "name": "stdout",
     "output_type": "stream",
     "text": [
      "10\n",
      "20\n"
     ]
    }
   ],
   "source": [
    "def func1(a):\n",
    "    print(a)\n",
    "\n",
    "a = func1\n",
    "a(10)\n",
    "\n",
    "def func2(f):\n",
    "    f(20)\n",
    "    \n",
    "func2(func1)"
   ]
  },
  {
   "cell_type": "markdown",
   "metadata": {},
   "source": [
    "## map/reduce\n",
    "\n",
    "map的概念就是对于每一个iterable的物件都做一次function上的事情。map(func, iterable) 回传一个iterator。"
   ]
  },
  {
   "cell_type": "code",
   "execution_count": 2,
   "metadata": {
    "collapsed": false
   },
   "outputs": [
    {
     "name": "stdout",
     "output_type": "stream",
     "text": [
      "[10, 9, 8, 7, 6, 5, 4, 3, 2, 1]\n",
      "['-10', '-9', '-8', '-7', '-6', '-5', '-4', '-3', '-2', '-1']\n"
     ]
    }
   ],
   "source": [
    "print(list(map(abs, [i for i in range(-10,0)])))\n",
    "print(list(map(str, [i for i in range(-10,0)])))"
   ]
  },
  {
   "cell_type": "markdown",
   "metadata": {},
   "source": [
    "对于 reduce而言，其实就是：\n",
    "\n",
    "reduce(f, [x1, x2, x3, x4]) = f(f(f(x1, x2), x3), x4)"
   ]
  },
  {
   "cell_type": "code",
   "execution_count": 3,
   "metadata": {
    "collapsed": false
   },
   "outputs": [
    {
     "data": {
      "text/plain": [
       "45"
      ]
     },
     "execution_count": 3,
     "metadata": {},
     "output_type": "execute_result"
    }
   ],
   "source": [
    "from functools import reduce\n",
    "\n",
    "def add (x,y):\n",
    "    return x+y\n",
    "reduce(add,[x for x in range(10)])"
   ]
  },
  {
   "cell_type": "markdown",
   "metadata": {},
   "source": [
    "以下是一个string to int的代码，比较让我觉得惊艳的是{}[]的用法。前面{}代表一个dict，后面的[]代表从中取value。"
   ]
  },
  {
   "cell_type": "code",
   "execution_count": 4,
   "metadata": {
    "collapsed": false
   },
   "outputs": [
    {
     "data": {
      "text/plain": [
       "13579"
      ]
     },
     "execution_count": 4,
     "metadata": {},
     "output_type": "execute_result"
    }
   ],
   "source": [
    "def char2num(s):\n",
    "    return {'0': 0, '1': 1, '2': 2, '3': 3, '4': 4, '5': 5, '6': 6, '7': 7, '8': 8, '9': 9}[s]\n",
    "\n",
    "def fun(x, y):\n",
    "    return x*10 + y\n",
    "\n",
    "reduce(fun, map(char2num, '13579'))"
   ]
  },
  {
   "cell_type": "markdown",
   "metadata": {},
   "source": [
    "python内建filter()，和map()的概念类似，filter(func, iterable) return iterator。只是，这个func是return True/False，如果是True就保留这个元素，如果是False就将这个元素剔除。"
   ]
  },
  {
   "cell_type": "code",
   "execution_count": 5,
   "metadata": {
    "collapsed": false
   },
   "outputs": [
    {
     "name": "stdout",
     "output_type": "stream",
     "text": [
      "[]\n",
      "[0, 1, 2, 3, 4, 5, 6, 7, 8, 9]\n"
     ]
    }
   ],
   "source": [
    "def func_false(x):\n",
    "    return False\n",
    "def func_true(x):\n",
    "    return True\n",
    "\n",
    "print(list(filter(func_false, [x for x in range(10)])))\n",
    "print(list(filter(func_true, [x for x in range(10)])))"
   ]
  },
  {
   "cell_type": "markdown",
   "metadata": {},
   "source": [
    "python中直接利用sorted()函数就可以对list进行排序。并且可以吃 key = func，代表要如何比较大小的方式。 reverse = False，代表是否需要反向。\n",
    "\n",
    "[官方文件](https://docs.python.org/3/library/functions.html#sorted)"
   ]
  },
  {
   "cell_type": "code",
   "execution_count": 6,
   "metadata": {
    "collapsed": false
   },
   "outputs": [
    {
     "name": "stdout",
     "output_type": "stream",
     "text": [
      "[-62, -25, -21, 1, 2, 3, 4, 51, 63]\n",
      "[1, 2, 3, 4, -21, -25, 51, -62, 63]\n",
      "[63, -62, 51, -25, -21, 4, 3, 2, 1]\n"
     ]
    }
   ],
   "source": [
    "a = [2,3,1,51,-25,63,-62,4,-21]\n",
    "print(sorted(a))\n",
    "print(sorted(a, key = abs))\n",
    "print(sorted(a, key = abs, reverse=True))"
   ]
  },
  {
   "cell_type": "markdown",
   "metadata": {},
   "source": [
    "刚刚看到python的star operator \\* 在这边稍微提一下。基本上会把一个iterable拆开放到函数的input里面。同样，也有\\*\\*这个，是为了能够让dict拆开，对对应的input输入参数。"
   ]
  },
  {
   "cell_type": "code",
   "execution_count": 7,
   "metadata": {
    "collapsed": false
   },
   "outputs": [
    {
     "name": "stdout",
     "output_type": "stream",
     "text": [
      "5\n",
      "5\n"
     ]
    }
   ],
   "source": [
    "def func(a,b):\n",
    "    print(a+b)\n",
    "    \n",
    "l = [2,3]\n",
    "func(*l)\n",
    "d = {\"a\":2, \"b\":3}\n",
    "func(**d)"
   ]
  },
  {
   "cell_type": "code",
   "execution_count": 8,
   "metadata": {
    "collapsed": false
   },
   "outputs": [
    {
     "data": {
      "text/plain": [
       "4"
      ]
     },
     "execution_count": 8,
     "metadata": {},
     "output_type": "execute_result"
    }
   ],
   "source": [
    "max([1,2,3,4])"
   ]
  },
  {
   "cell_type": "markdown",
   "metadata": {},
   "source": [
    "# 返回函数\n",
    "\n",
    "可以将函数直接返回，同样的，在 `f()` 的时候才会重新运算。"
   ]
  },
  {
   "cell_type": "code",
   "execution_count": 9,
   "metadata": {
    "collapsed": false,
    "scrolled": true
   },
   "outputs": [
    {
     "name": "stdout",
     "output_type": "stream",
     "text": [
      "f: <function lazy_sum.<locals>.sum at 0x1046b3840>\n",
      "f(): 6\n"
     ]
    }
   ],
   "source": [
    "def lazy_sum(*args):\n",
    "    def sum():\n",
    "        ax = 0\n",
    "        for n in args:\n",
    "            ax = ax + n\n",
    "        return ax\n",
    "    return sum\n",
    "\n",
    "f = lazy_sum(1,2,3)\n",
    "print(\"f:\", f)\n",
    "print(\"f():\", f())"
   ]
  },
  {
   "cell_type": "markdown",
   "metadata": {},
   "source": [
    "每次的回传function都会是不同的函数，并且调用结果不互相影响。"
   ]
  },
  {
   "cell_type": "code",
   "execution_count": 10,
   "metadata": {
    "collapsed": false
   },
   "outputs": [
    {
     "name": "stdout",
     "output_type": "stream",
     "text": [
      "f1 == f2: False\n",
      "f1(): 10\n",
      "f2(): 10\n",
      "f3(): 26\n"
     ]
    }
   ],
   "source": [
    "f1 = lazy_sum(1,2,3,4)\n",
    "f2 = lazy_sum(1,2,3,4)\n",
    "f3 = lazy_sum(5,6,7,8)\n",
    "\n",
    "print(\"f1 == f2:\", f1==f2)\n",
    "print(\"f1():\", f1())\n",
    "print(\"f2():\", f2())\n",
    "print(\"f3():\", f3())"
   ]
  },
  {
   "cell_type": "markdown",
   "metadata": {},
   "source": [
    "### 注意\n",
    "\n",
    "** 返回函数不要引用任何循环变量，或者后续会发生变换的变量 **"
   ]
  },
  {
   "cell_type": "code",
   "execution_count": 11,
   "metadata": {
    "collapsed": false
   },
   "outputs": [
    {
     "name": "stdout",
     "output_type": "stream",
     "text": [
      "f1(): 9\n",
      "f2(): 9\n",
      "f3(): 9\n"
     ]
    }
   ],
   "source": [
    "def count():\n",
    "    fs = []\n",
    "    for i in range(1,4):\n",
    "        def f():\n",
    "            return i*i;\n",
    "        fs.append(f)\n",
    "    return fs\n",
    "f1, f2, f3 = count()\n",
    "\n",
    "print(\"f1():\", f1())\n",
    "print(\"f2():\", f2())\n",
    "print(\"f3():\", f3())"
   ]
  },
  {
   "cell_type": "markdown",
   "metadata": {},
   "source": [
    "感觉上结果是1，4，9。但是，由于在return的时候函数并没有执行，当真正执行的时候** i **就变成了3，所以全部的结果都是9"
   ]
  },
  {
   "cell_type": "markdown",
   "metadata": {},
   "source": [
    "## 闭包\n",
    "\n",
    "是个大坑，还需要了解。到时候专门找资料来理解。\n",
    "\n",
    "基本的想法好像是能够利用返回函数来带回一部分变数，以摆脱scope对变数的限制。"
   ]
  },
  {
   "cell_type": "markdown",
   "metadata": {},
   "source": [
    "## 匿名函数\n",
    "\n",
    "python的lambda比较简单，只能有一个表达式。\n",
    "```python\n",
    "lambda x: x*x\n",
    "```\n",
    "其实就是\n",
    "```python\n",
    "def f(x):\n",
    "    return x*x\n",
    "```"
   ]
  },
  {
   "cell_type": "code",
   "execution_count": 12,
   "metadata": {
    "collapsed": false
   },
   "outputs": [
    {
     "data": {
      "text/plain": [
       "[1, 4, 9, 16, 25, 36, 49, 64, 81]"
      ]
     },
     "execution_count": 12,
     "metadata": {},
     "output_type": "execute_result"
    }
   ],
   "source": [
    "list(map(lambda x: x*x, [1,2,3,4,5,6,7,8,9]))"
   ]
  },
  {
   "cell_type": "markdown",
   "metadata": {},
   "source": [
    "## 装饰器\n",
    "\n",
    "先创建一个function。"
   ]
  },
  {
   "cell_type": "code",
   "execution_count": 13,
   "metadata": {
    "collapsed": false,
    "scrolled": true
   },
   "outputs": [
    {
     "name": "stdout",
     "output_type": "stream",
     "text": [
      "2017-8-31\n"
     ]
    }
   ],
   "source": [
    "def now():\n",
    "    print(\"2017-8-31\")\n",
    "\n",
    "f = now\n",
    "f()"
   ]
  },
  {
   "cell_type": "markdown",
   "metadata": {},
   "source": [
    "假设现在需要增强某些now的功能却不想改变内部的定义，这样就需要借助“装饰器”（Decorator)来实现。\n",
    "\n",
    "本质上，decorator是一个**返回函数**的高阶函数。\n",
    "\n",
    "如下就是一个装饰器的范例程式。"
   ]
  },
  {
   "cell_type": "code",
   "execution_count": 28,
   "metadata": {
    "collapsed": true
   },
   "outputs": [],
   "source": [
    "def log(func):\n",
    "    def wrapper(*args, **kw):\n",
    "        print(\"call {}()\".format(func.__name__))\n",
    "        return func(*args, **kw)\n",
    "    return wrapper"
   ]
  },
  {
   "cell_type": "markdown",
   "metadata": {},
   "source": [
    "借助@语法，将decorator加在func上。"
   ]
  },
  {
   "cell_type": "code",
   "execution_count": 29,
   "metadata": {
    "collapsed": false
   },
   "outputs": [
    {
     "name": "stdout",
     "output_type": "stream",
     "text": [
      "call now()\n",
      "2017-8-31\n"
     ]
    }
   ],
   "source": [
    "@log\n",
    "def now():\n",
    "    print(\"2017-8-31\")\n",
    "    \n",
    "now()"
   ]
  },
  {
   "cell_type": "markdown",
   "metadata": {},
   "source": [
    "如果没有return func的话看看会出现什么情况，并以此了解decorator。"
   ]
  },
  {
   "cell_type": "code",
   "execution_count": 25,
   "metadata": {
    "collapsed": false
   },
   "outputs": [
    {
     "name": "stdout",
     "output_type": "stream",
     "text": [
      "call now()\n"
     ]
    }
   ],
   "source": [
    "def log_no_return_func(func):\n",
    "    def wrapper(*args, **kw):\n",
    "        print(\"call {}()\".format(func.__name__))\n",
    "    return wrapper\n",
    "\n",
    "@log_no_return_func\n",
    "def now():\n",
    "    print(\"2017-8-31\")\n",
    "    \n",
    "now()"
   ]
  },
  {
   "cell_type": "markdown",
   "metadata": {},
   "source": [
    "竟然就没有执行now里面的内容。\n",
    "\n",
    "将**@log**放在**now()**前面的意义是相当于：**now = log(now)**，所以如果wrapper不把now丢回来的话，now是无法执行的。而上面print出来的值是在log(now)的时候产生的。\n",
    "\n",
    "由于**wrapper**吃的参数是\\*args,\\*\\*kw所以什么函数都可以使用。但是，如果需要decorator吃参数就需要包三层。"
   ]
  },
  {
   "cell_type": "code",
   "execution_count": 30,
   "metadata": {
    "collapsed": false
   },
   "outputs": [
    {
     "name": "stdout",
     "output_type": "stream",
     "text": [
      "excute now:\n",
      "2017-8-31\n"
     ]
    }
   ],
   "source": [
    "def log(text):\n",
    "    def decorator(func):\n",
    "        def wrapper(*args, **kw):\n",
    "            print(\"{} {}:\".format(text, func.__name__))\n",
    "            return func(*args, **kw)\n",
    "        return wrapper\n",
    "    return decorator\n",
    "\n",
    "@log(\"excute\")\n",
    "def now():\n",
    "    print(\"2017-8-31\")\n",
    "\n",
    "now()"
   ]
  },
  {
   "cell_type": "markdown",
   "metadata": {},
   "source": [
    "对于三层嵌套的执行是： **now = log(\"execute\")(now)** \n",
    "\n",
    "decorator由于包了一层wrapper，会导致改变函数的属性。比如\\_\\_name\\_\\_等属性会变成wrapper的。"
   ]
  },
  {
   "cell_type": "code",
   "execution_count": 31,
   "metadata": {
    "collapsed": false
   },
   "outputs": [
    {
     "data": {
      "text/plain": [
       "'wrapper'"
      ]
     },
     "execution_count": 31,
     "metadata": {},
     "output_type": "execute_result"
    }
   ],
   "source": [
    "now.__name__"
   ]
  },
  {
   "cell_type": "markdown",
   "metadata": {},
   "source": [
    "因为有functool.wrps可以帮忙做这些事情，就不需要写\n",
    "```python\n",
    "wrapper.__name__ = func.__name__\n",
    "```\n",
    "完整的decorator的写法是这样的"
   ]
  },
  {
   "cell_type": "code",
   "execution_count": 34,
   "metadata": {
    "collapsed": true
   },
   "outputs": [],
   "source": [
    "import functools\n",
    "\n",
    "def log(func):\n",
    "    @functools.wraps(func)\n",
    "    def wrapper(*args, **kw):\n",
    "        print(\"call {}:\".format(func.__name__))\n",
    "        return func(*args, **kw)\n",
    "    return wrapper"
   ]
  },
  {
   "cell_type": "markdown",
   "metadata": {},
   "source": [
    "如果带着参数"
   ]
  },
  {
   "cell_type": "code",
   "execution_count": 33,
   "metadata": {
    "collapsed": true
   },
   "outputs": [],
   "source": [
    "import functools\n",
    "\n",
    "def log(text):\n",
    "    def decorator(func):\n",
    "        @functools.wraps(func)\n",
    "        def wrapper(*args, **kw):\n",
    "            print(\"call {}:\".format(func.__name__))\n",
    "            return func(*args, **kw)\n",
    "        return wrapper\n",
    "    return decorator"
   ]
  },
  {
   "cell_type": "markdown",
   "metadata": {},
   "source": [
    "### 练习\n",
    "\n",
    "请编写一个decorator，能在函数调用的前后打印出'begin call'和'end call'的日志。"
   ]
  },
  {
   "cell_type": "code",
   "execution_count": 46,
   "metadata": {
    "collapsed": false
   },
   "outputs": [
    {
     "name": "stdout",
     "output_type": "stream",
     "text": [
      "begin call\n",
      "execute\n",
      "end call\n"
     ]
    }
   ],
   "source": [
    "import functools\n",
    "\n",
    "def log(func):\n",
    "    @functools.wraps(func)\n",
    "    def wrapper(*args, **kw):\n",
    "        print(\"begin call\")\n",
    "        func(*args, **kw)\n",
    "        print(\"end call\")\n",
    "    return wrapper\n",
    "\n",
    "@log\n",
    "def fun():\n",
    "    print(\"execute\")\n",
    "    \n",
    "fun()"
   ]
  },
  {
   "cell_type": "markdown",
   "metadata": {},
   "source": [
    "## 偏函数(Partial function)\n",
    "\n",
    "在[Tensorflow的input function](https://www.tensorflow.org/get_started/input_fn)提到过如果input function要吃一些参数的时候，可是input function的定义是不能有参数的，就可以使用functools.partial来定住某些值，再将参数传入train。\n",
    "\n",
    "这边利用**int()**来解释，int可以直接吃string，会直接转换成int。如果加上base这个参数，就可以基于这个base装换成10进制。"
   ]
  },
  {
   "cell_type": "code",
   "execution_count": 49,
   "metadata": {
    "collapsed": false
   },
   "outputs": [
    {
     "name": "stdout",
     "output_type": "stream",
     "text": [
      "int_10: 12345\n",
      "int_8: 5349\n",
      "int_16: 74565\n"
     ]
    }
   ],
   "source": [
    "int_10 = int(\"12345\")\n",
    "int_8 = int(\"12345\", base=8)\n",
    "int_16 = int(\"12345\", base=16)\n",
    "\n",
    "print(\"int_10: {}\".format(int_10))\n",
    "print(\"int_8: {}\".format(int_8))\n",
    "print(\"int_16: {}\".format(int_16))"
   ]
  },
  {
   "cell_type": "markdown",
   "metadata": {},
   "source": [
    "可以使用partial来重新定义新的function。"
   ]
  },
  {
   "cell_type": "code",
   "execution_count": 55,
   "metadata": {
    "collapsed": false
   },
   "outputs": [
    {
     "name": "stdout",
     "output_type": "stream",
     "text": [
      "int_8: 5349\n"
     ]
    }
   ],
   "source": [
    "import functools\n",
    "\n",
    "int8 = functools.partial(int, base=8)\n",
    "int_8 = int8(\"12345\")\n",
    "\n",
    "print(\"int_8: {}\".format(int_8))"
   ]
  }
 ],
 "metadata": {
  "kernelspec": {
   "display_name": "Python 3",
   "language": "python",
   "name": "python3"
  },
  "language_info": {
   "codemirror_mode": {
    "name": "ipython",
    "version": 3
   },
   "file_extension": ".py",
   "mimetype": "text/x-python",
   "name": "python",
   "nbconvert_exporter": "python",
   "pygments_lexer": "ipython3",
   "version": "3.5.2"
  }
 },
 "nbformat": 4,
 "nbformat_minor": 1
}
