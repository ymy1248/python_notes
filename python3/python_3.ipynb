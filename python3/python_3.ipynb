{
 "cells": [
  {
   "cell_type": "markdown",
   "metadata": {},
   "source": [
    "# python3 大法师之路(3): 函数式编程\n",
    "\n",
    "在python中function也是一个物件。（这真的挺猛的），既然是物件，代表着可以被assign。而且可以当作function的传入值。"
   ]
  },
  {
   "cell_type": "code",
   "execution_count": 2,
   "metadata": {
    "collapsed": false
   },
   "outputs": [
    {
     "name": "stdout",
     "output_type": "stream",
     "text": [
      "10\n",
      "20\n"
     ]
    }
   ],
   "source": [
    "def func1(a):\n",
    "    print(a)\n",
    "\n",
    "a = func1\n",
    "a(10)\n",
    "\n",
    "def func2(f):\n",
    "    f(20)\n",
    "    \n",
    "func2(func1)"
   ]
  },
  {
   "cell_type": "markdown",
   "metadata": {},
   "source": [
    "map/reduce 原来python里面就有实作map，reduce呀。我之前对python的理解简直是太浅了。\n",
    "\n",
    "map的概念就是对于每一个iterable的物件都做一次function上的事情。map(func, iterable) 回传一个iterator。"
   ]
  },
  {
   "cell_type": "code",
   "execution_count": 6,
   "metadata": {
    "collapsed": false
   },
   "outputs": [
    {
     "name": "stdout",
     "output_type": "stream",
     "text": [
      "[10, 9, 8, 7, 6, 5, 4, 3, 2, 1]\n",
      "['-10', '-9', '-8', '-7', '-6', '-5', '-4', '-3', '-2', '-1']\n"
     ]
    }
   ],
   "source": [
    "print(list(map(abs, [i for i in range(-10,0)])))\n",
    "print(list(map(str, [i for i in range(-10,0)])))"
   ]
  },
  {
   "cell_type": "markdown",
   "metadata": {},
   "source": [
    "对于 reduce而言，其实就是：\n",
    "\n",
    "reduce(f, [x1, x2, x3, x4]) = f(f(f(x1, x2), x3), x4)"
   ]
  },
  {
   "cell_type": "code",
   "execution_count": 2,
   "metadata": {
    "collapsed": false
   },
   "outputs": [
    {
     "data": {
      "text/plain": [
       "45"
      ]
     },
     "execution_count": 2,
     "metadata": {},
     "output_type": "execute_result"
    }
   ],
   "source": [
    "from functools import reduce\n",
    "\n",
    "def add (x,y):\n",
    "    return x+y\n",
    "reduce(add,[x for x in range(10)])"
   ]
  },
  {
   "cell_type": "markdown",
   "metadata": {},
   "source": [
    "以下是一个string to int的代码，比较让我觉得惊艳的是{}[]的用法。前面{}代表一个dict，后面的[]代表从中取value。"
   ]
  },
  {
   "cell_type": "code",
   "execution_count": 5,
   "metadata": {
    "collapsed": false
   },
   "outputs": [
    {
     "data": {
      "text/plain": [
       "13579"
      ]
     },
     "execution_count": 5,
     "metadata": {},
     "output_type": "execute_result"
    }
   ],
   "source": [
    "def char2num(s):\n",
    "    return {'0': 0, '1': 1, '2': 2, '3': 3, '4': 4, '5': 5, '6': 6, '7': 7, '8': 8, '9': 9}[s]\n",
    "\n",
    "def fun(x, y):\n",
    "    return x*10 + y\n",
    "\n",
    "reduce(fun, map(char2num, '13579'))"
   ]
  },
  {
   "cell_type": "markdown",
   "metadata": {},
   "source": [
    "python内建filter()，和map()的概念类似，filter(func, iterable) return iterator。只是，这个func是return True/False，如果是True就保留这个元素，如果是False就将这个元素剔除。"
   ]
  },
  {
   "cell_type": "code",
   "execution_count": 8,
   "metadata": {
    "collapsed": false
   },
   "outputs": [
    {
     "name": "stdout",
     "output_type": "stream",
     "text": [
      "[]\n",
      "[0, 1, 2, 3, 4, 5, 6, 7, 8, 9]\n"
     ]
    }
   ],
   "source": [
    "def func_false(x):\n",
    "    return False\n",
    "def func_true(x):\n",
    "    return True\n",
    "\n",
    "print(list(filter(func_false, [x for x in range(10)])))\n",
    "print(list(filter(func_true, [x for x in range(10)])))"
   ]
  }
 ],
 "metadata": {
  "kernelspec": {
   "display_name": "Python 3",
   "language": "python",
   "name": "python3"
  },
  "language_info": {
   "codemirror_mode": {
    "name": "ipython",
    "version": 3
   },
   "file_extension": ".py",
   "mimetype": "text/x-python",
   "name": "python",
   "nbconvert_exporter": "python",
   "pygments_lexer": "ipython3",
   "version": "3.5.2"
  }
 },
 "nbformat": 4,
 "nbformat_minor": 1
}
