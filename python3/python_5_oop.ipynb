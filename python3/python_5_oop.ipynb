{
 "cells": [
  {
   "cell_type": "markdown",
   "metadata": {},
   "source": [
    "# 面向对象编程\n",
    "\n",
    "## 类和实例\n",
    "\n",
    "python用class来定义class，后面的()代表的是继承的类别，如果需要继承的类别就都用object（可以省略）。"
   ]
  },
  {
   "cell_type": "code",
   "execution_count": 1,
   "metadata": {
    "collapsed": false,
    "scrolled": true
   },
   "outputs": [
    {
     "name": "stdout",
     "output_type": "stream",
     "text": [
      "<__main__.Student object at 0x104634160>\n",
      "<class '__main__.Student'>\n"
     ]
    }
   ],
   "source": [
    "class Student():\n",
    "    pass\n",
    "\n",
    "obj = Student()\n",
    "print(obj)\n",
    "print(Student)"
   ]
  },
  {
   "cell_type": "markdown",
   "metadata": {},
   "source": [
    "对于class内没有的属性还是同样可以用.something来绑定属性。"
   ]
  },
  {
   "cell_type": "code",
   "execution_count": 3,
   "metadata": {
    "collapsed": false
   },
   "outputs": [
    {
     "name": "stdout",
     "output_type": "stream",
     "text": [
      "ymy1248\n"
     ]
    }
   ],
   "source": [
    "obj.name = \"ymy1248\"\n",
    "print(obj.name)"
   ]
  },
  {
   "cell_type": "markdown",
   "metadata": {},
   "source": [
    "比较妥帖的做法是利用\\_\\_init\\_\\_()来初始化一个class。\n",
    "\n",
    "每一个attribute都用self.something来定义。\n",
    "\n",
    "**self**是必须要的，python是利用self来把一个function和这个class绑定在一起的，在传入参数的时候并不需要。"
   ]
  },
  {
   "cell_type": "code",
   "execution_count": 10,
   "metadata": {
    "collapsed": false,
    "scrolled": true
   },
   "outputs": [
    {
     "name": "stdout",
     "output_type": "stream",
     "text": [
      "fhan\n",
      "100\n"
     ]
    }
   ],
   "source": [
    "class Student(object):\n",
    "    def __init__(self, name, score):\n",
    "        self.name = name\n",
    "        self.score = score\n",
    "        \n",
    "fhan = Student(\"fhan\", 100)\n",
    "print(fhan.name)\n",
    "print(fhan.score)"
   ]
  },
  {
   "cell_type": "markdown",
   "metadata": {},
   "source": [
    "## Class内部function\n",
    "\n",
    "和\\_\\_init\\_\\_类似，用def function(self)的方式，self一样是用来绑定class的。"
   ]
  },
  {
   "cell_type": "code",
   "execution_count": 11,
   "metadata": {
    "collapsed": false
   },
   "outputs": [
    {
     "name": "stdout",
     "output_type": "stream",
     "text": [
      "fhan score: 100\n"
     ]
    }
   ],
   "source": [
    "class Student(object):\n",
    "    def __init__(self, name, score):\n",
    "        self.name = name\n",
    "        self.score = score\n",
    "    \n",
    "    def print_score(self):\n",
    "        print(\"{} score: {}\".format(self.name, self.score))\n",
    "\n",
    "fhan = Student(\"fhan\", 100)\n",
    "fhan.print_score()"
   ]
  },
  {
   "cell_type": "markdown",
   "metadata": {},
   "source": [
    "## 访问限制\n",
    "\n",
    "为了能够让外部不能访问内部参数，需要加\\_\\_。这样就算是private。"
   ]
  },
  {
   "cell_type": "code",
   "execution_count": 14,
   "metadata": {
    "collapsed": false
   },
   "outputs": [],
   "source": [
    "class Student():\n",
    "    def __init__(self, name, score):\n",
    "        self.__name = name\n",
    "        self.__score = score\n",
    "    \n",
    "    def print_score(self):\n",
    "        print(\"{} score: {}\".format(self.__name, self.__score))\n",
    "    \n",
    "fhan = Student(\"fhan\", 100)"
   ]
  },
  {
   "cell_type": "markdown",
   "metadata": {},
   "source": [
    "之所以會變成private，只是因為Python解釋器把\\_\\_name變成了\\_Student\\_\\_name。還是可以訪問的。请看[这个讨论](https://stackoverflow.com/questions/1641219/does-python-have-private-variables-in-classes)，而对于\\_name而言的意思是，开发者认为这个变量是可以访问的，但是希望你不要随意访问，会出问题。\n",
    "\n",
    "其实python并没有private的，不管怎样我还是可以从程式码里面来修改，所以也是没有什么必要的。"
   ]
  },
  {
   "cell_type": "code",
   "execution_count": 15,
   "metadata": {
    "collapsed": false
   },
   "outputs": [
    {
     "name": "stdout",
     "output_type": "stream",
     "text": [
      "fhan\n"
     ]
    }
   ],
   "source": [
    "print(fhan._Student__name)"
   ]
  }
 ],
 "metadata": {
  "kernelspec": {
   "display_name": "Python 3",
   "language": "python",
   "name": "python3"
  },
  "language_info": {
   "codemirror_mode": {
    "name": "ipython",
    "version": 3
   },
   "file_extension": ".py",
   "mimetype": "text/x-python",
   "name": "python",
   "nbconvert_exporter": "python",
   "pygments_lexer": "ipython3",
   "version": "3.5.2"
  }
 },
 "nbformat": 4,
 "nbformat_minor": 1
}
