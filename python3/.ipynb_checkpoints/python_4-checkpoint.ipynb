{
 "cells": [
  {
   "cell_type": "markdown",
   "metadata": {},
   "source": [
    "# python3: 函数回顧\n",
    "\n",
    "在自己看python相关文件api的时候突然发现自己有的函数的表达看不太懂，觉得需要再系统的学习一下。\n",
    "\n",
    "## 定义函数"
   ]
  },
  {
   "cell_type": "code",
   "execution_count": 1,
   "metadata": {
    "collapsed": false
   },
   "outputs": [
    {
     "name": "stdout",
     "output_type": "stream",
     "text": [
      "1\n",
      "1\n"
     ]
    }
   ],
   "source": [
    "def my_abs(x):\n",
    "    if x>0:\n",
    "        return x\n",
    "    else:\n",
    "        return -x\n",
    "\n",
    "print(my_abs(-1))\n",
    "print(my_abs(1))"
   ]
  },
  {
   "cell_type": "markdown",
   "metadata": {},
   "source": [
    "有 return 就执行到 return，**没有return执行完还是会有回传None**"
   ]
  },
  {
   "cell_type": "code",
   "execution_count": 2,
   "metadata": {
    "collapsed": false
   },
   "outputs": [
    {
     "name": "stdout",
     "output_type": "stream",
     "text": [
      "None\n"
     ]
    }
   ],
   "source": [
    "def foo():\n",
    "    a = 1\n",
    "\n",
    "b = foo()\n",
    "print(b)"
   ]
  },
  {
   "cell_type": "markdown",
   "metadata": {},
   "source": [
    "## 参数型别检查\n",
    "\n",
    "由于python不会检查型别，可以自己利用 raise 和 isinstance()来处理。\n",
    "\n",
    "假设my_abs只能允许整数和浮点数。"
   ]
  },
  {
   "cell_type": "code",
   "execution_count": 3,
   "metadata": {
    "collapsed": false
   },
   "outputs": [
    {
     "ename": "TypeError",
     "evalue": "bad operand type",
     "output_type": "error",
     "traceback": [
      "\u001b[0;31m---------------------------------------------------------------------------\u001b[0m",
      "\u001b[0;31mTypeError\u001b[0m                                 Traceback (most recent call last)",
      "\u001b[0;32m<ipython-input-3-6cabc80d1ef9>\u001b[0m in \u001b[0;36m<module>\u001b[0;34m()\u001b[0m\n\u001b[1;32m      7\u001b[0m         \u001b[0;32mreturn\u001b[0m \u001b[0;34m-\u001b[0m\u001b[0mx\u001b[0m\u001b[0;34m\u001b[0m\u001b[0m\n\u001b[1;32m      8\u001b[0m \u001b[0;34m\u001b[0m\u001b[0m\n\u001b[0;32m----> 9\u001b[0;31m \u001b[0mmy_abs\u001b[0m\u001b[0;34m(\u001b[0m\u001b[0;34m'A'\u001b[0m\u001b[0;34m)\u001b[0m\u001b[0;34m\u001b[0m\u001b[0m\n\u001b[0m",
      "\u001b[0;32m<ipython-input-3-6cabc80d1ef9>\u001b[0m in \u001b[0;36mmy_abs\u001b[0;34m(x)\u001b[0m\n\u001b[1;32m      1\u001b[0m \u001b[0;32mdef\u001b[0m \u001b[0mmy_abs\u001b[0m\u001b[0;34m(\u001b[0m\u001b[0mx\u001b[0m\u001b[0;34m)\u001b[0m\u001b[0;34m:\u001b[0m\u001b[0;34m\u001b[0m\u001b[0m\n\u001b[1;32m      2\u001b[0m     \u001b[0;32mif\u001b[0m \u001b[0;32mnot\u001b[0m \u001b[0misinstance\u001b[0m\u001b[0;34m(\u001b[0m\u001b[0mx\u001b[0m\u001b[0;34m,\u001b[0m \u001b[0;34m(\u001b[0m\u001b[0mint\u001b[0m\u001b[0;34m,\u001b[0m \u001b[0mfloat\u001b[0m\u001b[0;34m)\u001b[0m\u001b[0;34m)\u001b[0m\u001b[0;34m:\u001b[0m\u001b[0;34m\u001b[0m\u001b[0m\n\u001b[0;32m----> 3\u001b[0;31m         \u001b[0;32mraise\u001b[0m \u001b[0mTypeError\u001b[0m\u001b[0;34m(\u001b[0m\u001b[0;34m'bad operand type'\u001b[0m\u001b[0;34m)\u001b[0m\u001b[0;34m\u001b[0m\u001b[0m\n\u001b[0m\u001b[1;32m      4\u001b[0m     \u001b[0;32mif\u001b[0m \u001b[0mx\u001b[0m\u001b[0;34m>=\u001b[0m \u001b[0;36m0\u001b[0m\u001b[0;34m:\u001b[0m\u001b[0;34m\u001b[0m\u001b[0m\n\u001b[1;32m      5\u001b[0m         \u001b[0;32mreturn\u001b[0m \u001b[0mx\u001b[0m\u001b[0;34m\u001b[0m\u001b[0m\n",
      "\u001b[0;31mTypeError\u001b[0m: bad operand type"
     ]
    }
   ],
   "source": [
    "def my_abs(x):\n",
    "    if not isinstance(x, (int, float)):\n",
    "        raise TypeError('bad operand type')\n",
    "    if x>= 0:\n",
    "        return x\n",
    "    else:\n",
    "        return -x\n",
    "\n",
    "my_abs('A')"
   ]
  },
  {
   "cell_type": "markdown",
   "metadata": {},
   "source": [
    "## 返回多个值\n",
    "\n",
    "不像java，要返回多个值的适合需要用array（虽然最后原理都是一样），python直接用逗号隔开return，再用逗号隔开接收就好。"
   ]
  },
  {
   "cell_type": "code",
   "execution_count": 4,
   "metadata": {
    "collapsed": false
   },
   "outputs": [
    {
     "name": "stdout",
     "output_type": "stream",
     "text": [
      "(1, 2, 3)\n"
     ]
    }
   ],
   "source": [
    "def multi_return():\n",
    "    a = 1\n",
    "    b = 2\n",
    "    c = 3\n",
    "    return a, b, c\n",
    "\n",
    "a, b, c = multi_return()\n",
    "\n",
    "print((a, b, c))"
   ]
  },
  {
   "cell_type": "markdown",
   "metadata": {},
   "source": [
    "如果需要忽略某個回傳值就需要用 _ 來處理。"
   ]
  },
  {
   "cell_type": "code",
   "execution_count": 5,
   "metadata": {
    "collapsed": false
   },
   "outputs": [
    {
     "name": "stdout",
     "output_type": "stream",
     "text": [
      "(2, 3)\n"
     ]
    }
   ],
   "source": [
    "_, b, c = multi_return()\n",
    "\n",
    "print((b, c))"
   ]
  },
  {
   "cell_type": "markdown",
   "metadata": {},
   "source": [
    "對於多個值的return其實只是一個tuple而已，只是省略了 () 寫起來比較方便而已。"
   ]
  },
  {
   "cell_type": "code",
   "execution_count": 6,
   "metadata": {
    "collapsed": false,
    "scrolled": true
   },
   "outputs": [
    {
     "name": "stdout",
     "output_type": "stream",
     "text": [
      "(1, 2, 3)\n"
     ]
    }
   ],
   "source": [
    "a = multi_return()\n",
    "print(a)"
   ]
  },
  {
   "cell_type": "markdown",
   "metadata": {},
   "source": [
    "## 位置参数（必须参数）\n",
    "python的位置参数和一般的程式语言是一样的"
   ]
  },
  {
   "cell_type": "code",
   "execution_count": 7,
   "metadata": {
    "collapsed": false
   },
   "outputs": [
    {
     "name": "stdout",
     "output_type": "stream",
     "text": [
      "a: 1\n",
      "b: 2\n"
     ]
    }
   ],
   "source": [
    "def foo(a, b):\n",
    "    print(\"a:\", a)\n",
    "    print(\"b:\", b)\n",
    "\n",
    "foo(1, 2)"
   ]
  },
  {
   "cell_type": "markdown",
   "metadata": {},
   "source": [
    "## 默认参数\n",
    "\n",
    "对于默认参数而言，直接在参数后面接 \"=\"就可以。而不像java要用overload来处理。\n",
    "\n",
    "需要注意的是，因为按照位置对应参数的关系，必要参数要在前面，默认参数要在必要参数之后。"
   ]
  },
  {
   "cell_type": "code",
   "execution_count": 14,
   "metadata": {
    "collapsed": false
   },
   "outputs": [
    {
     "name": "stdout",
     "output_type": "stream",
     "text": [
      "n = 2, x^n = 4\n",
      "n = 3, x^n = 8\n",
      "n = 3, x^n = 27\n"
     ]
    }
   ],
   "source": [
    "def power(x, n=2):\n",
    "    print(\"n = {}, x^n = {}\".format(n,x**n))\n",
    "\n",
    "power(2)\n",
    "power(2,3)\n",
    "power(n=3, x=3)"
   ]
  },
  {
   "cell_type": "markdown",
   "metadata": {},
   "source": [
    "**默认参数的大坑：**默认参数必须指向不可变对象。\n",
    "\n",
    "python在一开始定义的时候，默认参数就被定义出来了，对于这个默认参数 **l** 而言，指向的就是这个list，只要改变就会一起跟着改变的"
   ]
  },
  {
   "cell_type": "code",
   "execution_count": 17,
   "metadata": {
    "collapsed": false,
    "scrolled": true
   },
   "outputs": [
    {
     "name": "stdout",
     "output_type": "stream",
     "text": [
      "[1, 2, 3, 'end']\n",
      "['end']\n",
      "['end', 'end']\n",
      "[1, 2, 3, 'end']\n",
      "['end', 'end', 'end']\n"
     ]
    }
   ],
   "source": [
    "def add_end(l = []):\n",
    "    l.append(\"end\")\n",
    "    return l\n",
    "\n",
    "print(add_end([1,2,3]))\n",
    "print(add_end())\n",
    "print(add_end())\n",
    "print(add_end([1,2,3]))\n",
    "print(add_end())"
   ]
  },
  {
   "cell_type": "markdown",
   "metadata": {},
   "source": [
    "## 可变参数\n",
    "\n",
    "可变参数，当输入的参数个数不确定的时候，原本可以用list或tuple来传入，可是在参数前加入 ** * **就可以输入不确定个数参数。"
   ]
  },
  {
   "cell_type": "code",
   "execution_count": 1,
   "metadata": {
    "collapsed": false,
    "scrolled": true
   },
   "outputs": [
    {
     "name": "stdout",
     "output_type": "stream",
     "text": [
      "10\n",
      "0\n",
      "6\n"
     ]
    }
   ],
   "source": [
    "def sum(*nums):\n",
    "    sum = 0\n",
    "    for n in nums:\n",
    "        sum += n\n",
    "    return sum\n",
    "\n",
    "print(sum(1,2,3,4))\n",
    "print(sum())\n",
    "print(sum(1,2,3))"
   ]
  },
  {
   "cell_type": "markdown",
   "metadata": {},
   "source": [
    "同样，也可以使用** \\*list \\*tuple **的方式将值输入一个带有 \\*arg的function，而不用拆解成list[0],list[1]..."
   ]
  },
  {
   "cell_type": "code",
   "execution_count": 2,
   "metadata": {
    "collapsed": false
   },
   "outputs": [
    {
     "name": "stdout",
     "output_type": "stream",
     "text": [
      "10\n"
     ]
    }
   ],
   "source": [
    "nums = [1,2,3,4]\n",
    "print(sum(*nums))"
   ]
  },
  {
   "cell_type": "markdown",
   "metadata": {},
   "source": [
    "## 关键字参数\n",
    "\n",
    "关键字参数，只给list和tuple可能太不公平，dict也需要一个特别的参数。\n",
    "\n",
    "利用** \\*\\*arg **来表示一个关键字对应一个参数，在function内部自动组合成一个dict。这样的好处是可以扩充功能。\n",
    "\n",
    "在输入的时候可以采用** arg=a **的方式或者采用 ** \\*\\*dict **的方式。并且这种形式的参数同样也是可以输入必选参数的。"
   ]
  },
  {
   "cell_type": "code",
   "execution_count": 18,
   "metadata": {
    "collapsed": false
   },
   "outputs": [
    {
     "name": "stdout",
     "output_type": "stream",
     "text": [
      "name: Mike , age: 24 , extra: {}\n",
      "name: Carlos , age: 20 , extra: {'gender': 'male'}\n",
      "name: xiaomin , age: 23 , extra: {'gender': 'male', 'Country': 'China'}\n",
      "name: xiaomin , age: 24 , extra: {'gender': 'male'}\n"
     ]
    }
   ],
   "source": [
    "def person(name, age, **extra):\n",
    "    print(\"name:\", name, \", age:\", age, \", extra:\", extra)\n",
    "\n",
    "person(\"Mike\", 24)\n",
    "person(\"Carlos\", 20, gender=\"male\")\n",
    "xiaomin_extra = {\n",
    "    \"gender\": \"male\",\n",
    "    \"Country\":\"China\",\n",
    "}\n",
    "person(\"xiaomin\", \"23\", **xiaomin_extra)\n",
    "xiaomin = {\n",
    "    \"name\": \"xiaomin\",\n",
    "    \"age\": 24,\n",
    "    \"gender\": \"male\",\n",
    "}\n",
    "person(**xiaomin)"
   ]
  },
  {
   "cell_type": "markdown",
   "metadata": {},
   "source": [
    "关键字参数是copy一份dict，并不会更改到外面的dict\n",
    "\n",
    "## 命名关键字参数\n",
    "\n",
    "为了对关键字参数做限制，限制输入的关键字参数的名称。\n",
    "\n",
    "在程式参数加 **\\***，之后的参数就是命名关键字参数。"
   ]
  },
  {
   "cell_type": "code",
   "execution_count": 13,
   "metadata": {
    "collapsed": false,
    "scrolled": true
   },
   "outputs": [
    {
     "name": "stdout",
     "output_type": "stream",
     "text": [
      "Jack 24 NYC Engineer\n"
     ]
    }
   ],
   "source": [
    "def person(name, age, *, city, job):\n",
    "    print(name, age, city, job)\n",
    "\n",
    "person('Jack', 24, city='NYC', job='Engineer')"
   ]
  },
  {
   "cell_type": "markdown",
   "metadata": {},
   "source": [
    "命名关键字参数相当于一般的参数，如果**没有默认值就一定要输入**，如果没有就会报错，不同的是命名关键字参数一定要带参数名字。"
   ]
  },
  {
   "cell_type": "code",
   "execution_count": 14,
   "metadata": {
    "collapsed": false,
    "scrolled": true
   },
   "outputs": [
    {
     "ename": "TypeError",
     "evalue": "person() missing 2 required keyword-only arguments: 'city' and 'job'",
     "output_type": "error",
     "traceback": [
      "\u001b[0;31m---------------------------------------------------------------------------\u001b[0m",
      "\u001b[0;31mTypeError\u001b[0m                                 Traceback (most recent call last)",
      "\u001b[0;32m<ipython-input-14-6694b1ce1892>\u001b[0m in \u001b[0;36m<module>\u001b[0;34m()\u001b[0m\n\u001b[0;32m----> 1\u001b[0;31m \u001b[0mperson\u001b[0m\u001b[0;34m(\u001b[0m\u001b[0;34m'Jack'\u001b[0m\u001b[0;34m,\u001b[0m\u001b[0;36m24\u001b[0m\u001b[0;34m)\u001b[0m\u001b[0;34m\u001b[0m\u001b[0m\n\u001b[0m",
      "\u001b[0;31mTypeError\u001b[0m: person() missing 2 required keyword-only arguments: 'city' and 'job'"
     ]
    }
   ],
   "source": [
    "person('Jack',24)"
   ]
  },
  {
   "cell_type": "markdown",
   "metadata": {},
   "source": [
    "比较神奇的是，如果带有可变参数，就不用加 **\\*** 来定义。"
   ]
  },
  {
   "cell_type": "code",
   "execution_count": 17,
   "metadata": {
    "collapsed": false,
    "scrolled": true
   },
   "outputs": [
    {
     "name": "stdout",
     "output_type": "stream",
     "text": [
      "Jack 24 () NYC Engineer {}\n"
     ]
    }
   ],
   "source": [
    "def person(name, age, *args,  city, job, **kw):\n",
    "    print(name, age, args, city, job, kw)\n",
    "\n",
    "person('Jack', 24, city='NYC', job='Engineer')"
   ]
  },
  {
   "cell_type": "markdown",
   "metadata": {},
   "source": [
    "## 参数位置\n",
    "\n",
    "必选参数，默认参数，可变参数，命名关键字参数，关键字参数\n",
    "\n",
    "**对于任意参数，都可以采用类似 func(\\*args, \\*\\*kw)的形式调用**"
   ]
  }
 ],
 "metadata": {
  "kernelspec": {
   "display_name": "Python 3",
   "language": "python",
   "name": "python3"
  },
  "language_info": {
   "codemirror_mode": {
    "name": "ipython",
    "version": 3
   },
   "file_extension": ".py",
   "mimetype": "text/x-python",
   "name": "python",
   "nbconvert_exporter": "python",
   "pygments_lexer": "ipython3",
   "version": "3.5.2"
  }
 },
 "nbformat": 4,
 "nbformat_minor": 1
}
