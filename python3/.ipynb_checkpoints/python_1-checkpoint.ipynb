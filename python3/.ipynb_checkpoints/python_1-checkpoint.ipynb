{
 "cells": [
  {
   "cell_type": "markdown",
   "metadata": {},
   "source": [
    "# python3 大法师之路(1): 基本知识"
   ]
  },
  {
   "cell_type": "markdown",
   "metadata": {},
   "source": [
    "这篇主要把自己不是很了解的基础知识认真一遍。\n",
    "* * *\n",
    "连input都没有用过,真是惭愧。"
   ]
  },
  {
   "cell_type": "code",
   "execution_count": null,
   "metadata": {},
   "outputs": [],
   "source": [
    "a = input()\n",
    "print(a)"
   ]
  },
  {
   "cell_type": "markdown",
   "metadata": {},
   "source": [
    "***\n",
    "python虽然是用缩进，但是却没有规定一定要用多少代表，(1个空格和2个空格都可以，只要保持一致就好。)但是，一般约定俗成是使用**4个空格**。"
   ]
  },
  {
   "cell_type": "code",
   "execution_count": null,
   "metadata": {},
   "outputs": [],
   "source": [
    "if True:\n",
    " print(\"It's OK\")"
   ]
  },
  {
   "cell_type": "code",
   "execution_count": null,
   "metadata": {},
   "outputs": [],
   "source": [
    "if True:\n",
    "    print(\"It's OK too.\")"
   ]
  },
  {
   "cell_type": "markdown",
   "metadata": {},
   "source": [
    "***\n",
    "利用\"\"\" \"\"\"形式可以直接换行，并且print的时候也会一起换"
   ]
  },
  {
   "cell_type": "code",
   "execution_count": null,
   "metadata": {},
   "outputs": [],
   "source": [
    "print(\"\"\"line1\n",
    "line2\n",
    "line3\"\"\")"
   ]
  },
  {
   "cell_type": "markdown",
   "metadata": {},
   "source": [
    "***\n",
    "对于python的reference好像和java的reference概念是类似的，当然，不排除有一些不同。之后会再深入了解。"
   ]
  },
  {
   "cell_type": "code",
   "execution_count": null,
   "metadata": {},
   "outputs": [],
   "source": [
    "a = \"abc\"\n",
    "b = a\n",
    "a = \"xyz\"\n",
    "print(b)"
   ]
  },
  {
   "cell_type": "markdown",
   "metadata": {},
   "source": [
    "***\n",
    "板除法，// 就是c++里面的int/int得到的还是int。直接去尾取整。"
   ]
  },
  {
   "cell_type": "code",
   "execution_count": null,
   "metadata": {},
   "outputs": [],
   "source": [
    "10//3"
   ]
  },
  {
   "cell_type": "markdown",
   "metadata": {},
   "source": [
    "***\n",
    "其实，在python里面也有格式化表示的，利用%隔开，前面的是内容，后面接（）里面放着需要表示的内容。如果只有一个参数可以省略（）\n",
    "\n",
    "|%表示|形式|\n",
    "|:-:|:-:|\n",
    "|%d|整数|\n",
    "|%f|浮点数|\n",
    "|%s|字符串|\n",
    "|%x|十六进制整数|"
   ]
  },
  {
   "cell_type": "code",
   "execution_count": null,
   "metadata": {},
   "outputs": [],
   "source": [
    "print(\"Hello %s\" % \"World\")\n",
    "print(\"%s %s\" % (\"Hello\", \"World\"))"
   ]
  },
  {
   "cell_type": "markdown",
   "metadata": {},
   "source": [
    "***\n",
    "跳过list，因为比较熟悉。还是想要worship一下，这个list根本什么都可以放，只要是一个物件，就可以塞，而且不同的class也可以。而且还可以当做queue和stack。哎，真的挺用的。\n",
    "\n",
    "tuple，一旦初始化就不能修改。无法insert(), append()。提高代码的安全性，const的概念。\n",
    "\n",
    "解释一下(1,)是什么意思，我经常看到keras上面有人用。但是总是不清楚，今天看到了豁然开朗。\n",
    "\n",
    "要定义一个只有1个元素的tuple，如果你这么定义："
   ]
  },
  {
   "cell_type": "code",
   "execution_count": null,
   "metadata": {
    "scrolled": true
   },
   "outputs": [],
   "source": [
    "t = (1)\n",
    "print(t)"
   ]
  },
  {
   "cell_type": "markdown",
   "metadata": {},
   "source": [
    "定义的不是tuple，是1这个数！这是因为括号()既可以表示tuple，又可以表示数学公式中的小括号，这就产生了歧义，因此，Python规定，这种情况下,按小括号进行计算，计算结果自然是1。\n",
    "\n",
    "所以，只有1个元素的tuple定义时必须加一个逗号,，来消除歧义："
   ]
  },
  {
   "cell_type": "code",
   "execution_count": null,
   "metadata": {},
   "outputs": [],
   "source": [
    "t = (1,)\n",
    "print(t)\n",
    "print(t[0])"
   ]
  },
  {
   "cell_type": "markdown",
   "metadata": {},
   "source": [
    "其实tuple并不是说要元素都不可以变化，而是里面的元素reference不能发生改变。"
   ]
  },
  {
   "cell_type": "code",
   "execution_count": null,
   "metadata": {},
   "outputs": [],
   "source": [
    "t = (1,2,[1,2,3])\n",
    "t[2].append(4)\n",
    "t"
   ]
  },
  {
   "cell_type": "markdown",
   "metadata": {},
   "source": [
    "还是要正视immutable 和 mutable 的问题。看完之后的感觉就是immutabl是赋值之后不会随着另外一个reference更改的值变化而变化。而mutable会变化。这个其实并不是我不理解的重点。\n",
    "\n",
    "其实为什么会看这个的原因是出现了以下的问题让我无法理解。"
   ]
  },
  {
   "cell_type": "code",
   "execution_count": null,
   "metadata": {},
   "outputs": [],
   "source": [
    "a = 10\n",
    "\n",
    "print('a id:', id(a))\n",
    "print('10 id:', id(10))"
   ]
  },
  {
   "cell_type": "markdown",
   "metadata": {},
   "source": [
    "既然说都是object，为什么不是像list一样，[]就是在创建一个object呢？而在10的时候根本就像是java的primative type呀。这个和是不是immutable并没有太大的关系。\n",
    "\n",
    "[这里是答案](http://stackoverflow.com/questions/38189660/two-variables-in-python-have-same-id-but-not-lists-or-tuples)\n",
    "\n",
    "基本的想法就是在-5到256之间的int和长度小于20的string都会使用singletong的做法。"
   ]
  },
  {
   "cell_type": "code",
   "execution_count": null,
   "metadata": {},
   "outputs": [],
   "source": [
    "a = 257\n",
    "\n",
    "print('a id:', id(a))\n",
    "print('256 id:', id(257))"
   ]
  },
  {
   "cell_type": "code",
   "execution_count": null,
   "metadata": {},
   "outputs": [],
   "source": [
    "a = ([],2,3)\n",
    "b = a\n",
    "b[0].append(1)\n",
    "print(a)\n",
    "print(b)"
   ]
  },
  {
   "cell_type": "markdown",
   "metadata": {},
   "source": [
    "if elif判断和回圈就不累述，比较熟悉。这份应该就到这，但是今天有看到切片和迭代这些高级用法，也算是在for里面的。我还是独立做一份笔记吧，基础的东西其实真的和其他语言都差不多。但是python的极简哲学最近在做ML的时候真的让我有点爱上她（自己本身也有点极简主义），其实之前在写c++的时候就已经在想过，为什么c++语言就直接用vector就好，把所谓的array直接用vector替换就好。虽然我理解c++本来就是可以fine tune，所以让她的performance可以有很多可以精进的地方。python确实做到了，根本list就是array，queue, stack。for in直接用iterator来做，哈哈哈，连所谓的range()不过也是一个iterator而已。真的挺强大的。不过本来也是因为CS发展到这个程度上了，memory is cheap, cpu is powerful所以才可以做到的罢。不过比起要把java学精，我跟愿意学python。"
   ]
  }
 ],
 "metadata": {
  "kernelspec": {
   "display_name": "Python 3",
   "language": "python",
   "name": "python3"
  },
  "language_info": {
   "codemirror_mode": {
    "name": "ipython",
    "version": 3
   },
   "file_extension": ".py",
   "mimetype": "text/x-python",
   "name": "python",
   "nbconvert_exporter": "python",
   "pygments_lexer": "ipython3",
   "version": "3.5.2"
  }
 },
 "nbformat": 4,
 "nbformat_minor": 2
}
