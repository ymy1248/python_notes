{
 "cells": [
  {
   "cell_type": "markdown",
   "metadata": {},
   "source": [
    "# 利用python3发送email\n",
    "\n",
    "最近在做ML的东西，然后发现就算ML一个模型做完了我也不知道，老爱一直看一直看，就觉得很烦躁。在这边想试着作出直接发送gmail给我的邮箱通知我的插件。作为CS的学生要玩就要疯狂一点。哎，我最近真的有点散心病狂，哎，模型不对真的很绝望，阿里不找我也很绝望呀，我能怎么办。挫败感极强，妈妈说，挫败感很强的时候就应该搞一点自己喜欢玩的东西。\n",
    "\n",
    "首先看看python3的[官方指导](https://docs.python.org/3.4/library/email-examples.html)\n",
    "\n",
    "对通讯协议不太熟的我表示，这根本看不懂，于是就要开始找资料了。\n",
    "\n",
    "首先看看什么是[SMTP](https://zh.wikipedia.org/wiki/%E7%AE%80%E5%8D%95%E9%82%AE%E4%BB%B6%E4%BC%A0%E8%BE%93%E5%8D%8F%E8%AE%AE)，简单来讲就是送mail的一个协议。\n",
    "\n",
    "在python3里面直接就有支援smtplib,可以很简单得使用几个function就可以使用。简单介绍这几个用到的function。\n",
    "smtplib.SMTP就是创建一个server，（基本上是把SMTP server的基本资讯放进去）比如gmail的server是\"smtp.gmail.com\" port： 587.可言参考[google文件](https://support.google.com/mail/answer/7126229?hl=zh-Hant)\n",
    "\n",
    "ehlo基本上算是SMTP的一个步骤，所以一定要执行。\n",
    "starttls 直接看官方解释Put the SMTP connection in TLS (Transport Layer Security) mode. All SMTP commands that follow will be encrypted. You should then call ehlo() again.\n",
    "接下来就是login和sendmail.\n",
    "\n",
    "我遇到的问题是我没有把自己gmail的权限给SMTP，请参考[这个指导](https://support.google.com/accounts/answer/6010255)，在[这边](https://myaccount.google.com/lesssecureapps)修改。个人建议还是要用的时候开起来，不用的时候关掉把。"
   ]
  },
  {
   "cell_type": "code",
   "execution_count": 16,
   "metadata": {
    "collapsed": false
   },
   "outputs": [],
   "source": [
    "def send_email(user, pwd, recipient, subject, body):\n",
    "    import smtplib\n",
    "\n",
    "    gmail_user = user\n",
    "    gmail_pwd = pwd\n",
    "    FROM = user\n",
    "    TO = recipient if type(recipient) is list else [recipient]\n",
    "    SUBJECT = subject\n",
    "    TEXT = body\n",
    "\n",
    "    # Prepare actual message\n",
    "    message = \"\"\"From: %s\\nTo: %s\\nSubject: %s\\n\\n%s\n",
    "    \"\"\" % (FROM, \", \".join(TO), SUBJECT, TEXT)\n",
    "    try:\n",
    "        server = smtplib.SMTP(\"smtp.gmail.com\", 587)\n",
    "        server.ehlo()\n",
    "        server.starttls()\n",
    "        server.ehlo()\n",
    "        server.login(gmail_user, gmail_pwd)\n",
    "        server.sendmail(FROM, TO, message)\n",
    "        server.close()\n",
    "        print(\"successfully sent the mail\")\n",
    "    except Exception as e:\n",
    "        print(e)\n",
    "        print(\"failed to send mail\")"
   ]
  }
 ],
 "metadata": {
  "kernelspec": {
   "display_name": "Python 3",
   "language": "python",
   "name": "python3"
  },
  "language_info": {
   "codemirror_mode": {
    "name": "ipython",
    "version": 3
   },
   "file_extension": ".py",
   "mimetype": "text/x-python",
   "name": "python",
   "nbconvert_exporter": "python",
   "pygments_lexer": "ipython3",
   "version": "3.5.2"
  }
 },
 "nbformat": 4,
 "nbformat_minor": 1
}
