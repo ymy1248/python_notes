{
 "cells": [
  {
   "cell_type": "markdown",
   "metadata": {},
   "source": [
    "# Image Sentiment Classification\n",
    "\n",
    "[Kaggle链接](https://inclass.kaggle.com/c/ml2017-hw3)\n",
    "\n",
    "总结：从来没有做一个代码作业做的这么无力，包括之前的那个B+ tree，怎么说也是有努力的方向和bug给我debug。\n",
    "\n",
    "这次作业基本上就是用keras来搭一个CNN然后来做 48\\*48\\*1图像的classification。\n",
    "\n",
    "为什么说这个作业这么难呢？因为总共我的代码也就150行，我在第一天就写好了，之后也基本没有改变过这个结构了。然后我花了两个礼拜的时间基本上每天都在调整参数而已，根本没有技术含量可言。那个strong baseline竟然在0.64。找了各种不同的参数模型下来，借鉴了vgg-16才做到0.62。还有10天。有的时候就是利用自己的直觉来调整。\n",
    "\n",
    "最后终于做到0.668过了strong，也算是顺利完成了作业，结果自己的最大的问题竟然是在batch_size上调得太小，导致了太复杂的模型没有办法train下去。\n",
    "\n",
    "在这边总结一下可以调整的参数和训练上的一些做法，还有自己的想法。\n",
    "\n",
    "|参数|影响|想法&经验|\n",
    "|:-:|:-:|:-:|\n",
    "|CNN filter size|影响到要如何对一个图片过滤的方式|基本上都是用3\\*3这就不要纠结了就用3\\*3，不行再改|\n",
    "|CNN filter number|影响过滤出来的图片几个样式|$ 2^n $基本逐层不断变多|\n",
    "|maxpolling|影响裁出来的图片大小|基本上会用2,在3上面试过，可是效果没有很好，这个没有太多的感受|\n",
    "|dropout|regularlization的方法，基本上dropout会好于l2|0.2开始往上调整|\n",
    "|padding|补上filter的边角|依据情况而定，padding|"
   ]
  }
 ],
 "metadata": {
  "kernelspec": {
   "display_name": "Python 3",
   "language": "python",
   "name": "python3"
  },
  "language_info": {
   "codemirror_mode": {
    "name": "ipython",
    "version": 3
   },
   "file_extension": ".py",
   "mimetype": "text/x-python",
   "name": "python",
   "nbconvert_exporter": "python",
   "pygments_lexer": "ipython3",
   "version": "3.5.2"
  }
 },
 "nbformat": 4,
 "nbformat_minor": 1
}
