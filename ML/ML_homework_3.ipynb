{
 "cells": [
  {
   "cell_type": "markdown",
   "metadata": {},
   "source": [
    "# Image Sentiment Classification\n",
    "\n",
    "[Kaggle链接](https://inclass.kaggle.com/c/ml2017-hw3)\n",
    "\n",
    "总结：从来没有做一个代码作业做的这么无力，包括之前的那个B+ tree，怎么说也是有努力的方向和bug给我debug。\n",
    "\n",
    "这次作业基本上就是用keras来搭一个CNN然后来做 48\\*48\\*1图像的classification。\n",
    "\n",
    "为什么说这个作业这么难呢？因为总共我的代码也就150行，我在第一天就写好了，之后也基本没有改变过这个结构了。然后我花了两个礼拜的时间基本上每天都在调整参数而已，根本没有技术含量可言。那个strong baseline竟然在0.64。找了各种不同的参数模型下来，借鉴了vgg-16才做到0.62。还有10天。有的时候就是利用自己的直觉来调整。"
   ]
  }
 ],
 "metadata": {
  "kernelspec": {
   "display_name": "Python 3",
   "language": "python",
   "name": "python3"
  },
  "language_info": {
   "codemirror_mode": {
    "name": "ipython",
    "version": 3
   },
   "file_extension": ".py",
   "mimetype": "text/x-python",
   "name": "python",
   "nbconvert_exporter": "python",
   "pygments_lexer": "ipython3",
   "version": "3.5.2"
  }
 },
 "nbformat": 4,
 "nbformat_minor": 1
}
