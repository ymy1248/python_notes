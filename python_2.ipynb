{
 "cells": [
  {
   "cell_type": "markdown",
   "metadata": {},
   "source": [
    "# python3 大法师之路(2): 进阶用法\n",
    "\n",
    "哎，最近等阿里的面试等得好烦躁，到底要怎样，给个痛快。硕士论文的traing data也是漏洞百出。真是烦躁不安的夏天。这段时间过了就一定好好找个地方出去散散心。阿里，我还是爱你的。\n",
    "\n",
    "还是来写写python吧，python一定对我不离不弃，哈哈哈。\n",
    "\n",
    "python我觉得很猛的这个特性，切片（slice）基本上就是说，可以直接把list切成一个一个部分，这个在我切validtion set的时候常常用到。\n",
    "\n",
    "基本上就是用[begin:end:step]将list切开，当然，如果是从头开始，或者一直到结尾结束的话可以省略。厉害的地方是，可以放入负数，代表的是到倒数第几个，-2到倒数第二个。和range一样，不包括最后end的那个元素。还有一个用法就是可以和range一样有step，一样放在最后一个。"
   ]
  },
  {
   "cell_type": "code",
   "execution_count": 1,
   "metadata": {
    "collapsed": false
   },
   "outputs": [
    {
     "name": "stdout",
     "output_type": "stream",
     "text": [
      "a        : [0, 1, 2, 3, 4, 5, 6, 7, 8, 9]\n",
      "a[0:2]   : [0, 1]\n",
      "a[:2]    : [0, 1]\n",
      "a[-2:]   : [8, 9]\n",
      "a[:-2]   : [0, 1, 2, 3, 4, 5, 6, 7]\n",
      "a[0:5:2] : [0, 2, 4]\n"
     ]
    }
   ],
   "source": [
    "a = [0,1,2,3,4,5,6,7,8,9]\n",
    "print(\"a        :\", a)\n",
    "a_slice = a[0:2]\n",
    "print(\"a[0:2]   :\", a_slice)\n",
    "a_slice = a[:2]\n",
    "print(\"a[:2]    :\", a_slice)\n",
    "a_slice = a[-2:]\n",
    "print(\"a[-2:]   :\", a_slice)\n",
    "a_slice = a[:-2]\n",
    "print(\"a[:-2]   :\", a_slice)\n",
    "a_slice = a[0:5:2]\n",
    "print(\"a[0:5:2] :\",a_slice)"
   ]
  },
  {
   "cell_type": "markdown",
   "metadata": {},
   "source": [
    "tuple和string也都可以当作是一个list。（猜想应该是有继承interface的概念，其实我也不知道，XD）\n",
    "\n",
    "同样的，tuple切出来还是tuple啦～"
   ]
  },
  {
   "cell_type": "code",
   "execution_count": 2,
   "metadata": {
    "collapsed": false
   },
   "outputs": [
    {
     "name": "stdout",
     "output_type": "stream",
     "text": [
      "01234567\n",
      "(0, 1, 2, 3, 4, 5, 6, 7)\n"
     ]
    }
   ],
   "source": [
    "print(\"0123456789\"[:-2])\n",
    "print((0,1,2,3,4,5,6,7,8,9)[:-2])"
   ]
  },
  {
   "cell_type": "markdown",
   "metadata": {},
   "source": [
    "深入理解一下什么是 for ... in，揪其根本就是Java中的for(i:list)，一样都是用iteration来做事。"
   ]
  },
  {
   "cell_type": "code",
   "execution_count": 3,
   "metadata": {
    "collapsed": false
   },
   "outputs": [
    {
     "name": "stdout",
     "output_type": "stream",
     "text": [
      "This is key:\n",
      "c b a \n",
      "This is value:\n",
      "3 2 1 \n",
      "String iter\n",
      "a b c "
     ]
    }
   ],
   "source": [
    "dict_a = {\"a\":1, \"b\":2, \"c\":3}\n",
    "str_a = \"abc\"\n",
    "print(\"This is key:\")\n",
    "for key in dict_a:\n",
    "    print(key, end = \" \")\n",
    "print(\"\\nThis is value:\")\n",
    "for value in dict_a.values():\n",
    "    print(value, end = \" \")\n",
    "print(\"\\nString iter\")\n",
    "for c in str_a:\n",
    "    print(c, end = \" \")"
   ]
  },
  {
   "cell_type": "markdown",
   "metadata": {},
   "source": [
    "判断一个object是否是一个可以迭代的对象。可以用collections中的Iterable"
   ]
  },
  {
   "cell_type": "code",
   "execution_count": 4,
   "metadata": {
    "collapsed": false
   },
   "outputs": [
    {
     "name": "stdout",
     "output_type": "stream",
     "text": [
      "True\n"
     ]
    }
   ],
   "source": [
    "from collections import Iterable\n",
    "print(isinstance(\"abc\", Iterable))"
   ]
  },
  {
   "cell_type": "markdown",
   "metadata": {},
   "source": [
    "想要有index和内容就使用 enumerate（）"
   ]
  },
  {
   "cell_type": "code",
   "execution_count": 5,
   "metadata": {
    "collapsed": false
   },
   "outputs": [
    {
     "name": "stdout",
     "output_type": "stream",
     "text": [
      "0 a\n",
      "1 b\n",
      "2 c\n"
     ]
    }
   ],
   "source": [
    "for i, value in enumerate(\"abc\"):\n",
    "    print(i,value)"
   ]
  },
  {
   "cell_type": "markdown",
   "metadata": {
    "collapsed": true
   },
   "source": [
    "下面来谈一下列表生成：list comprehensons\n",
    "\n",
    "基本上的用法就是在[]里面用上for回圈，然后也可以搭配if\n",
    "\n",
    "当然，也可以搭配两个for回圈一起使用\n",
    "\n",
    "就这么简单，就这么好用"
   ]
  },
  {
   "cell_type": "code",
   "execution_count": 6,
   "metadata": {
    "collapsed": false,
    "scrolled": true
   },
   "outputs": [
    {
     "name": "stdout",
     "output_type": "stream",
     "text": [
      "[0, 1, 2, 3, 4, 5, 6, 7, 8, 9]\n",
      "[0, 1, 4, 9, 16, 25, 36, 49, 64, 81]\n",
      "[0, 4, 16, 36, 64]\n",
      "[(0, 0), (0, 3), (0, 6), (0, 9), (2, 0), (2, 3), (2, 6), (2, 9), (4, 0), (4, 3), (4, 6), (4, 9), (6, 0), (6, 3), (6, 6), (6, 9), (8, 0), (8, 3), (8, 6), (8, 9)]\n"
     ]
    }
   ],
   "source": [
    "print([x for x in range(10)])\n",
    "print([x*x for x in range(10)])\n",
    "print([x*x for x in range(10) if x%2 == 0])\n",
    "print([(x,y) for x in range(10) if x%2 == 0 for y in range(10) if y%3 == 0])"
   ]
  },
  {
   "cell_type": "markdown",
   "metadata": {},
   "source": [
    "通过列表生成式，我们可以直接创建一个列表。但是，受到内存限制，列表容量肯定是有限的。而且，创建一个包含100万个元素的列表，不仅占用很大的存储空间，如果我们仅仅需要访问前面几个元素，那后面绝大多数元素占用的空间都白白浪费了。\n",
    "\n",
    "所以，如果列表元素可以按照某种算法推算出来，那我们是否可以在循环的过程中不断推算出后续的元素呢？这样就不必创建完整的list，从而节省大量的空间。在Python中，这种一边循环一边计算的机制，称为生成器：generator。\n",
    "\n",
    "要创建一个generator，有很多种方法。第一种方法很简单，只要把一个列表生成式的[]改成()，就创建了一个generator，并且利用next函数来获取下一个返回值。"
   ]
  },
  {
   "cell_type": "code",
   "execution_count": 7,
   "metadata": {
    "collapsed": false
   },
   "outputs": [
    {
     "name": "stdout",
     "output_type": "stream",
     "text": [
      "0\n",
      "1\n",
      "2\n"
     ]
    }
   ],
   "source": [
    "g = (x for x in range(10))\n",
    "print(next(g))\n",
    "print(next(g))\n",
    "print(next(g))"
   ]
  },
  {
   "cell_type": "markdown",
   "metadata": {},
   "source": [
    "当然，正确的generator的打开方式是利用for回圈来做了"
   ]
  },
  {
   "cell_type": "code",
   "execution_count": 8,
   "metadata": {
    "collapsed": false
   },
   "outputs": [
    {
     "name": "stdout",
     "output_type": "stream",
     "text": [
      "3\n",
      "4\n",
      "5\n",
      "6\n",
      "7\n",
      "8\n",
      "9\n"
     ]
    }
   ],
   "source": [
    "for i in g:\n",
    "    print(i)"
   ]
  },
  {
   "cell_type": "markdown",
   "metadata": {},
   "source": [
    "yield 关键字，在function中来定义generator，每次yield就回传一个数值。"
   ]
  },
  {
   "cell_type": "code",
   "execution_count": 9,
   "metadata": {
    "collapsed": false
   },
   "outputs": [
    {
     "name": "stdout",
     "output_type": "stream",
     "text": [
      "0\n",
      "1\n",
      "2\n",
      "3\n",
      "4\n",
      "5\n",
      "6\n",
      "7\n",
      "8\n",
      "9\n"
     ]
    }
   ],
   "source": [
    "def g(n):\n",
    "    for i in range(n):\n",
    "        yield i\n",
    "a = g(10)\n",
    "for i in a:\n",
    "    print(i)"
   ]
  },
  {
   "cell_type": "markdown",
   "metadata": {},
   "source": [
    "另外一个iterator的概念，好想iterable和iterator的概念并不一样，有点忘记Java里面是怎么区分这两个的，在python里面for回圈里面既可以用iterable也可以用iterator，像上面的例子。但是呢，iterable的物件并不是iterator，比如list， dict。"
   ]
  },
  {
   "cell_type": "code",
   "execution_count": 10,
   "metadata": {
    "collapsed": false,
    "scrolled": true
   },
   "outputs": [
    {
     "name": "stdout",
     "output_type": "stream",
     "text": [
      "True\n",
      "False\n"
     ]
    }
   ],
   "source": [
    "from collections import Iterable, Iterator\n",
    "\n",
    "print(isinstance([], Iterable))\n",
    "print(isinstance([], Iterator))"
   ]
  },
  {
   "cell_type": "markdown",
   "metadata": {},
   "source": [
    "可以用iter()来让一个Iterable的物件变为Iterator"
   ]
  },
  {
   "cell_type": "code",
   "execution_count": 11,
   "metadata": {
    "collapsed": false
   },
   "outputs": [
    {
     "name": "stdout",
     "output_type": "stream",
     "text": [
      "0\n"
     ]
    }
   ],
   "source": [
    "a = iter([0,1,2,3,4,5])\n",
    "print(next(a))"
   ]
  },
  {
   "cell_type": "markdown",
   "metadata": {},
   "source": [
    "基本的东西都放在这边了，之后还是要多看别人写的代码。哎，最近deep learning搞得我真的有点方。没有理论，没有方法，就是不断试错。还有最近老爱玩狼人杀，还是要放一放，那种东西还是等自己是本业上的大神之后再来研究吧。"
   ]
  }
 ],
 "metadata": {
  "kernelspec": {
   "display_name": "Python 3",
   "language": "python",
   "name": "python3"
  },
  "language_info": {
   "codemirror_mode": {
    "name": "ipython",
    "version": 3
   },
   "file_extension": ".py",
   "mimetype": "text/x-python",
   "name": "python",
   "nbconvert_exporter": "python",
   "pygments_lexer": "ipython3",
   "version": "3.5.2"
  }
 },
 "nbformat": 4,
 "nbformat_minor": 1
}
