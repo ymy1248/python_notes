{
 "cells": [
  {
   "cell_type": "markdown",
   "metadata": {},
   "source": [
    "# python_notes\n",
    "\n",
    "自己学习python3做的笔记，基本上是阅读[廖雪峰的官方网站](http://www.liaoxuefeng.com/wiki/0014316089557264a6b348958f449949df42a6d3a2e542c000)，因为要做和机器学习相关的，所以也会看[李金大神的整理](http://nbviewer.jupyter.org/github/lijin-THU/notes-python/blob/master/index.ipynb)\n",
    "\n",
    "* 目录\n",
    "    * [python3 大法师之路(1): 基本知识](python_1.ipynb)\n",
    "    * [python3 大法师之路(2): 进阶用法](python_2.ipynb)\n",
    "    * [python3 大法师之路(3): 函数式编程](python_3.ipynb)"
   ]
  }
 ],
 "metadata": {
  "kernelspec": {
   "display_name": "Python 3",
   "language": "python",
   "name": "python3"
  },
  "language_info": {
   "codemirror_mode": {
    "name": "ipython",
    "version": 3
   },
   "file_extension": ".py",
   "mimetype": "text/x-python",
   "name": "python",
   "nbconvert_exporter": "python",
   "pygments_lexer": "ipython3",
   "version": "3.5.2"
  }
 },
 "nbformat": 4,
 "nbformat_minor": 1
}
