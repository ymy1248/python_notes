{
 "cells": [
  {
   "cell_type": "markdown",
   "metadata": {},
   "source": [
    "# 学习笔记\n",
    "\n",
    "github看太慢了，建议在nbviewer上阅读：[nbviewer链接](http://nbviewer.jupyter.org/github/ymy1248/python_notes/blob/master/index.ipynb)。\n",
    "\n",
    "自己学习利用jupyter做的笔记，方便自己复习。也会有一些自己的感悟，就当作blog在用吧。\n",
    "\n",
    "* 目录\n",
    "  * **python廖雪峰的官方网站读书笔记** (doing)\n",
    "    * [原作者网站](http://www.liaoxuefeng.com/wiki/0014316089557264a6b348958f449949df42a6d3a2e542c000)\n",
    "    * [python3: 基本知识](python3/python_1.ipynb)\n",
    "    * [python3: 进阶知识](python3/python_2.ipynb)\n",
    "    * [python3: 函数回顧](python3/python_4.ipynb)\n",
    "    * [python3: 函数式编程](python3/python_3.ipynb)\n",
    "    * [自己闹着玩：利用python3发送email](python3/4Fun_send_email.ipynb)\n",
    "  * **tensorflow 读书笔记** (doing)\n",
    "    * [tf.estimator quickstart](tensorflow/quickstart.ipynb)\n",
    "    * [input function](tensorflow/input%20function.ipynb)\n",
    "    * [logging and monitoring](tensorflow/logging%20and%20monitoring.ipynb)\n",
    "  * **Machine Learning**\n",
    "    * [李宏毅老师个人网站](http://speech.ee.ntu.edu.tw/~tlkagk/courses.html)\n",
    "    * [自己的作业代码](https://github.com/ymy1248/ML)\n",
    "    * [作业1: pm 2.5预测(未完成)](ML/ML_homework_1.ipynb)\n",
    "  * **MLDS** (doing)\n",
    "    * [李宏毅老师个人网站](http://speech.ee.ntu.edu.tw/~tlkagk/courses.html)\n",
    "    * [自己的作业代码](https://github.com/ymy1248/MLDS2017)\n",
    "    * [1.Basic Structures for Deep Learning Models(未完成)](MLDS/MLDS1.ipynb)\n",
    "\n",
    "## TODO \n",
    "* python3\n",
    "  * mutable vs. imutable\n",
    "  * Closure\n",
    "* ML\n",
    "  * hw1-6\n",
    "  * final\n",
    "* MLDS \n",
    "  * hw0\n",
    "  * hw1\n",
    "  * hw2\n",
    "  * hw3\n",
    "  * hw4\n"
   ]
  }
 ],
 "metadata": {
  "kernelspec": {
   "display_name": "Python 3",
   "language": "python",
   "name": "python3"
  },
  "language_info": {
   "codemirror_mode": {
    "name": "ipython",
    "version": 3
   },
   "file_extension": ".py",
   "mimetype": "text/x-python",
   "name": "python",
   "nbconvert_exporter": "python",
   "pygments_lexer": "ipython3",
   "version": "3.5.2"
  }
 },
 "nbformat": 4,
 "nbformat_minor": 1
}
