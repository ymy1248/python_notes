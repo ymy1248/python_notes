{
 "cells": [
  {
   "cell_type": "markdown",
   "metadata": {},
   "source": [
    "# Basic Structures for Deep Learning Models\n",
    "[宏毅大大的课程网站](http://speech.ee.ntu.edu.tw/~tlkagk/courses_MLDS17.html)\n",
    "\n",
    "[讲义 pdf](http://speech.ee.ntu.edu.tw/~tlkagk/courses/MLDS_2017/Lecture/Basic%20Structure%20%28v8%29.pdf)\n",
    "\n",
    "讲义里面太多图片，这边基本上记录一些重点的观念，结合讲义一起复习。\n",
    "\n",
    "## RNN 模型\n",
    "\n",
    "不断使用这个function $f$ $$h', y_1= f(h,x_1)$$\n",
    "$$h'',y_2 = f(h', x_2)$$\n",
    "\n",
    "一直到$x_n$, 只要有一个f，不断使用，所以叫做Recurrent Neural Network. RNN在training data上比较难train，难得到好的结果，不过在validation上会很好。\n",
    "\n",
    "### Deep RNN\n",
    "$$h', y = f_1(h,x)$$ $$b',c = f_2(b,y)$$\n",
    "\n",
    "### Bidirectional RNN\n",
    "$$h',a = f_1(h,x)$$ $$b',c=f_2(b,x)$$ $$y=f_3(a,c)$$\n",
    "\n",
    "### Pyramidal RNN \n",
    "和金字塔形状类似。\n",
    "\n",
    "### Naive RNN(详见讲义)\n",
    "\n",
    "### LSTM\n",
    "$c^{t-1}$变化比较慢long term， $h^{t-1}$变化比较快 short term。\n",
    "\n",
    "peephole 把$c$加到input上,并且利用diagonal matrix来做线性变换。之所以要用diagonal matrix，是因为c可能导致overfitting\n",
    "\n",
    "$z^{i}$是input gate，用来决定是否x可以进入下一步。$z^{f}$是forget gate，用来决定c memory是否可以传入下一个c。\n",
    "\n",
    "### GRU\n",
    "\n",
    "粗箭头代表乘上一个matrix，圆圈加点代表element-wise相乘。GRU的参数量比较少，比较难overfitting，比LSTM的gate少一个。\n",
    "\n",
    "### RNN Example Task\n",
    "\n",
    "Target Delay把所有的label都delay一段时间。为了让机器可以看完所有的声音讯号. only for unidirectional RNN "
   ]
  }
 ],
 "metadata": {
  "kernelspec": {
   "display_name": "Python 3",
   "language": "python",
   "name": "python3"
  },
  "language_info": {
   "codemirror_mode": {
    "name": "ipython",
    "version": 3
   },
   "file_extension": ".py",
   "mimetype": "text/x-python",
   "name": "python",
   "nbconvert_exporter": "python",
   "pygments_lexer": "ipython3",
   "version": "3.5.2"
  }
 },
 "nbformat": 4,
 "nbformat_minor": 1
}
