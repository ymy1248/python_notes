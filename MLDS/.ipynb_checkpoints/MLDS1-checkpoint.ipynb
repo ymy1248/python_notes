{
 "cells": [
  {
   "cell_type": "markdown",
   "metadata": {},
   "source": [
    "# Basic Structures for Deep Learning Models\n",
    "[宏毅大大的课程网站](http://speech.ee.ntu.edu.tw/~tlkagk/courses_MLDS17.html)\n",
    "[讲义 pdf](http://speech.ee.ntu.edu.tw/~tlkagk/courses/MLDS_2017/Lecture/Basic%20Structure%20%28v8%29.pdf)\n",
    "\n",
    "## RNN 模型\n",
    "\n",
    "不断使用这个function $f$ $$h', y_1= f(h,x_1)$$\n",
    "$$h'',y_2 = f(h', x_2)$$\n",
    "\n",
    "一直到$x_n$, 只要有一个f，不断使用，所以叫做Recurrent Neural Network. RNN在training data上比较难train，难得到好的结果，不过在validation上会很好。\n",
    "\n",
    "Deep RNN, $$h', y = f_1(h,x)$$ $$b',c = f_2(b,y)$$\n",
    "\n",
    "Bidirectional RNN, $$h',a = f_1(h,x)$$ $$b',c=f_2(b,x)$$ $$y=f_3(a,c)$$\n",
    "\n",
    "Pyramidal RNN 和金字塔形状类似。"
   ]
  }
 ],
 "metadata": {
  "kernelspec": {
   "display_name": "Python 3",
   "language": "python",
   "name": "python3"
  },
  "language_info": {
   "codemirror_mode": {
    "name": "ipython",
    "version": 3
   },
   "file_extension": ".py",
   "mimetype": "text/x-python",
   "name": "python",
   "nbconvert_exporter": "python",
   "pygments_lexer": "ipython3",
   "version": "3.5.2"
  }
 },
 "nbformat": 4,
 "nbformat_minor": 1
}
