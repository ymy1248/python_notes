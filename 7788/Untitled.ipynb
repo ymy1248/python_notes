{
 "cells": [
  {
   "cell_type": "markdown",
   "metadata": {},
   "source": [
    "# 健身新課表\n",
    "\n",
    "重新排健身課表，由於之前過於習慣胸、背、肩、腿的訓練。而常常發現，在半個小時之後的感受度並沒有開始的強烈，這表明的肌肉過度疲勞。而且自己本身也應該不斷更換課表。來用不一樣的動作刺激自己的肌肉。這種新的健身模式至少會持續半年，課表會不斷調整。\n",
    "\n",
    "這套新課表基本上只將健身分為上半身和下半身，以多關節動作為主。所以會是三天一循環。\n",
    "\n",
    "|星期一|星期二|星期三|星期四|星期五|星期六|星期日|\n",
    "|:-:|:-:|:-:|:-:|:-:|:-:|:-:|\n",
    "|背|胸|腿|休|上|腿|休|\n",
    "\n",
    "至於動作強度和組數間隔會建議上半身6個動作（2個核心動作）下半身以深蹲作為核心動作再結合其他動作刺激，保持一個小時訓練量就好。間隔時間，建議1分鐘。\n",
    "\n",
    "### 上半身動作建議\n",
    "\n",
    "主要以推，拉結合。\n",
    "\n",
    "|動作|細節|\n",
    "|:-:|:-:|\n",
    "|[臥推](https://www.youtube.com/watch?v=KHyTxCBJiVY)|6組 8 reps|\n",
    "|[引體向上](https://www.youtube.com/watch?v=vw5Xmu5CIew)|6組 8 reps|\n",
    "|[肩推]()|4組 8-10 reps|"
   ]
  }
 ],
 "metadata": {
  "kernelspec": {
   "display_name": "Python 3",
   "language": "python",
   "name": "python3"
  },
  "language_info": {
   "codemirror_mode": {
    "name": "ipython",
    "version": 3
   },
   "file_extension": ".py",
   "mimetype": "text/x-python",
   "name": "python",
   "nbconvert_exporter": "python",
   "pygments_lexer": "ipython3",
   "version": "3.5.2"
  }
 },
 "nbformat": 4,
 "nbformat_minor": 1
}
