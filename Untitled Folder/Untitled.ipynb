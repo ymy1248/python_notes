{
 "cells": [
  {
   "cell_type": "markdown",
   "metadata": {},
   "source": [
    "# 线性代数结合python复习\n",
    "\n"
   ]
  },
  {
   "cell_type": "code",
   "execution_count": 2,
   "metadata": {
    "collapsed": true
   },
   "outputs": [],
   "source": [
    "import pandas as pd\n",
    "import numpy as np"
   ]
  },
  {
   "cell_type": "markdown",
   "metadata": {},
   "source": [
    "python中基本利用pandas和numpy就可以表示矩阵。\n",
    "\n",
    "pd使用DataFrame，np使用matrix。关于np.array与np.matrix之间的区别，可以参考[这个解释](https://stackoverflow.com/questions/4151128/what-are-the-differences-between-numpy-arrays-and-matrices-which-one-should-i-u)"
   ]
  },
  {
   "cell_type": "code",
   "execution_count": 7,
   "metadata": {
    "scrolled": true
   },
   "outputs": [
    {
     "name": "stdout",
     "output_type": "stream",
     "text": [
      "pd DataFrame\n",
      "    0   1\n",
      "0   6   8\n",
      "1  15  20\n",
      "2  45  64\n",
      "np matrix\n",
      "[[ 6  8]\n",
      " [15 20]\n",
      " [45 64]]\n"
     ]
    }
   ],
   "source": [
    "a_pd = pd.DataFrame([[6,8], [15,20],[45,64]])\n",
    "print('pd DataFrame')\n",
    "print(a_pd)\n",
    "a_np = np.matrix('6 8; 15 20; 45 64') \n",
    "print('np matrix')\n",
    "print(a_np)"
   ]
  },
  {
   "cell_type": "markdown",
   "metadata": {},
   "source": [
    "矩阵相加。在python中就简单相加就好。"
   ]
  },
  {
   "cell_type": "code",
   "execution_count": 16,
   "metadata": {
    "scrolled": false
   },
   "outputs": [
    {
     "name": "stdout",
     "output_type": "stream",
     "text": [
      "pd DataFrame\n",
      "    0   1\n",
      "0   8  12\n",
      "1  27  25\n",
      "2  47  98\n",
      "np matrix\n",
      "[[ 8 12]\n",
      " [27 25]\n",
      " [47 98]]\n"
     ]
    }
   ],
   "source": [
    "b_pd = pd.DataFrame([[2,4],[12,5],[2,34]])\n",
    "b_np = np.matrix('2 4; 12 5; 2 34')\n",
    "print('pd DataFrame')\n",
    "print(a_pd + b_pd)\n",
    "print('np matrix')\n",
    "print(a_np + b_np)"
   ]
  },
  {
   "cell_type": "markdown",
   "metadata": {},
   "source": [
    "Scalar multiplication 也是简单相乘就好。"
   ]
  },
  {
   "cell_type": "code",
   "execution_count": 22,
   "metadata": {
    "scrolled": true
   },
   "outputs": [
    {
     "name": "stdout",
     "output_type": "stream",
     "text": [
      "pd matrix\n",
      "    0    1\n",
      "0  12   16\n",
      "1  30   40\n",
      "2  90  128\n",
      "np matrix\n",
      "[[ 12  16]\n",
      " [ 30  40]\n",
      " [ 90 128]]\n"
     ]
    }
   ],
   "source": [
    "print('pd DataFrame')\n",
    "print(2 * a_pd)\n",
    "print('np matrix')\n",
    "print(2 * a_np)"
   ]
  },
  {
   "cell_type": "markdown",
   "metadata": {},
   "source": [
    "zero matrix: a m by n zero matrix denoted as $ O_{m*n}$"
   ]
  },
  {
   "cell_type": "code",
   "execution_count": 24,
   "metadata": {},
   "outputs": [
    {
     "name": "stdout",
     "output_type": "stream",
     "text": [
      "pd DataFrame\n",
      "   0  1  2\n",
      "0  0  0  0\n",
      "1  0  0  0\n",
      "np matrix\n",
      "[[ 0.  0.]\n",
      " [ 0.  0.]\n",
      " [ 0.  0.]]\n"
     ]
    }
   ],
   "source": [
    "o_pd = pd.DataFrame(0, index = range(2), columns = range(3))\n",
    "print('pd DataFrame')\n",
    "print(o_pd)\n",
    "o_np = np.zeros((3,2))\n",
    "print('np matrix')\n",
    "print(o_np)"
   ]
  }
 ],
 "metadata": {
  "kernelspec": {
   "display_name": "Python 3",
   "language": "python",
   "name": "python3"
  },
  "language_info": {
   "codemirror_mode": {
    "name": "ipython",
    "version": 3
   },
   "file_extension": ".py",
   "mimetype": "text/x-python",
   "name": "python",
   "nbconvert_exporter": "python",
   "pygments_lexer": "ipython3",
   "version": "3.5.2"
  }
 },
 "nbformat": 4,
 "nbformat_minor": 2
}
